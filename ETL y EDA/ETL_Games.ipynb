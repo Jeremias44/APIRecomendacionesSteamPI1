{
 "cells": [
  {
   "cell_type": "code",
   "execution_count": 1,
   "metadata": {},
   "outputs": [],
   "source": [
    "import pandas as pd\n",
    "import numpy as np\n",
    "import json\n",
    "import ast\n",
    "from collections import Counter"
   ]
  },
  {
   "cell_type": "markdown",
   "metadata": {},
   "source": [
    "# Extracción de datos games, y eliminación de nulos"
   ]
  },
  {
   "cell_type": "code",
   "execution_count": 2,
   "metadata": {},
   "outputs": [],
   "source": [
    "games = pd.read_json(r'json_originales\\output_steam_games.json', lines=True)\n",
    "games.dropna(inplace=True)"
   ]
  },
  {
   "cell_type": "markdown",
   "metadata": {},
   "source": [
    "# Conversión a número de la variable Price"
   ]
  },
  {
   "cell_type": "code",
   "execution_count": 3,
   "metadata": {},
   "outputs": [],
   "source": [
    "def convertir_a_numero(valor):\n",
    "    try:\n",
    "        return float(valor)\n",
    "    except ValueError:\n",
    "        return 0\n",
    "    \n",
    "games['price'] = games['price'].apply(convertir_a_numero)"
   ]
  },
  {
   "cell_type": "markdown",
   "metadata": {},
   "source": [
    "# Conversión a int de la variable id y cambio de nombre a item_id"
   ]
  },
  {
   "cell_type": "code",
   "execution_count": 4,
   "metadata": {},
   "outputs": [],
   "source": [
    "games.id = games.id.astype(int)\n",
    "games.rename(columns={'id': 'item_id'}, inplace=True)"
   ]
  },
  {
   "cell_type": "markdown",
   "metadata": {},
   "source": [
    "# Proceso de desanidado completo de games, en sus tres columnas que lo permiten: genres, tags, specs"
   ]
  },
  {
   "cell_type": "markdown",
   "metadata": {},
   "source": [
    "1) Obtengo las listas de valores posibles de cada columna"
   ]
  },
  {
   "cell_type": "code",
   "execution_count": 5,
   "metadata": {},
   "outputs": [],
   "source": [
    "generos = []\n",
    "for index,row in games.iterrows():\n",
    "    genres = row['genres']\n",
    "    for e in genres:\n",
    "        generos.append(e)\n",
    "# lista de géneros\n",
    "generos = list(Counter(generos).keys())\n",
    "\n",
    "#etiquetas = []\n",
    "#for index,row in games.iterrows():\n",
    "#    tags = row['tags']\n",
    "#    for e in tags:\n",
    "#        etiquetas.append(e)\n",
    "# lista de etiquetas\n",
    "#etiquetas = list(Counter(etiquetas).keys())\n",
    "\n",
    "especificaciones = []\n",
    "for index,row in games.iterrows():\n",
    "    specs = row['specs']\n",
    "    for e in specs:\n",
    "        especificaciones.append(e)\n",
    "# lista de especificaciones\n",
    "especificaciones = list(Counter(especificaciones).keys())"
   ]
  },
  {
   "cell_type": "code",
   "execution_count": 6,
   "metadata": {},
   "outputs": [
    {
     "name": "stdout",
     "output_type": "stream",
     "text": [
      "['Action', 'Casual', 'Indie', 'Simulation', 'Strategy', 'Free to Play', 'RPG', 'Sports', 'Adventure', 'Racing', 'Early Access', 'Massively Multiplayer', 'Animation &amp; Modeling', 'Web Publishing', 'Education', 'Software Training', 'Utilities', 'Design &amp; Illustration', 'Audio Production', 'Video Production', 'Photo Editing']\n"
     ]
    }
   ],
   "source": [
    "print(generos)"
   ]
  },
  {
   "cell_type": "code",
   "execution_count": 7,
   "metadata": {},
   "outputs": [
    {
     "name": "stdout",
     "output_type": "stream",
     "text": [
      "['Single-player', 'Multi-player', 'Online Multi-Player', 'Cross-Platform Multiplayer', 'Steam Achievements', 'Steam Trading Cards', 'In-App Purchases', 'Stats', 'Downloadable Content', 'Full controller support', 'Steam Cloud', 'Steam Leaderboards', 'Partial Controller Support', 'Local Co-op', 'Shared/Split Screen', 'Valve Anti-Cheat enabled', 'Co-op', 'Captions available', 'Steam Workshop', 'Includes level editor', 'Mods', 'MMO', 'Online Co-op', 'Local Multi-Player', 'Includes Source SDK', 'Commentary available', 'Steam Turn Notifications', 'SteamVR Collectibles', 'Game demo', 'Mods (require HL2)']\n"
     ]
    }
   ],
   "source": [
    "print(especificaciones)"
   ]
  },
  {
   "cell_type": "markdown",
   "metadata": {},
   "source": [
    "2. En un nuevo DataFrame creo cada columna, a la que asignaré valores 0 y 1"
   ]
  },
  {
   "cell_type": "code",
   "execution_count": 8,
   "metadata": {},
   "outputs": [],
   "source": [
    "games_desanidado = games.copy()\n",
    "\n",
    "for g in generos:\n",
    "    games_desanidado[f'genres.{g}'] = games_desanidado['genres'].apply(lambda x: int(g in x))\n",
    "\n",
    "#for e in etiquetas:\n",
    "#    games_desanidado[f'tags.{e}'] = games_desanidado['tags'].apply(lambda x: int(e in x))\n",
    "\n",
    "for e in especificaciones:\n",
    "    games_desanidado[f'specs.{e}'] = games_desanidado['specs'].apply(lambda x: int(e in x))"
   ]
  },
  {
   "cell_type": "code",
   "execution_count": 16,
   "metadata": {},
   "outputs": [],
   "source": [
    "games = games[['title', 'release_date', 'price','item_id','developer']]"
   ]
  },
  {
   "cell_type": "code",
   "execution_count": 21,
   "metadata": {},
   "outputs": [],
   "source": [
    "games_desanidado = games_desanidado.drop(columns=['publisher','genres','app_name','url','tags','reviews_url','specs', 'early_access'])"
   ]
  },
  {
   "cell_type": "markdown",
   "metadata": {},
   "source": [
    "# Exportación como csv de DataFrame games y DataFrame games_desanidado"
   ]
  },
  {
   "cell_type": "code",
   "execution_count": 28,
   "metadata": {},
   "outputs": [],
   "source": [
    "games.to_csv(r'csv_ETL\\games.csv', index=False)\n",
    "games_desanidado.to_csv(r'csv_ETL\\games_desanidado.csv', index=False)"
   ]
  },
  {
   "cell_type": "code",
   "execution_count": 26,
   "metadata": {},
   "outputs": [
    {
     "data": {
      "text/plain": [
       "(22530, 5)"
      ]
     },
     "execution_count": 26,
     "metadata": {},
     "output_type": "execute_result"
    }
   ],
   "source": [
    "games.shape"
   ]
  },
  {
   "cell_type": "code",
   "execution_count": 27,
   "metadata": {},
   "outputs": [
    {
     "data": {
      "text/plain": [
       "(22530, 56)"
      ]
     },
     "execution_count": 27,
     "metadata": {},
     "output_type": "execute_result"
    }
   ],
   "source": [
    "games_desanidado.shape"
   ]
  },
  {
   "cell_type": "code",
   "execution_count": 24,
   "metadata": {},
   "outputs": [
    {
     "data": {
      "text/html": [
       "<div>\n",
       "<style scoped>\n",
       "    .dataframe tbody tr th:only-of-type {\n",
       "        vertical-align: middle;\n",
       "    }\n",
       "\n",
       "    .dataframe tbody tr th {\n",
       "        vertical-align: top;\n",
       "    }\n",
       "\n",
       "    .dataframe thead th {\n",
       "        text-align: right;\n",
       "    }\n",
       "</style>\n",
       "<table border=\"1\" class=\"dataframe\">\n",
       "  <thead>\n",
       "    <tr style=\"text-align: right;\">\n",
       "      <th></th>\n",
       "      <th>genres.Action</th>\n",
       "      <th>genres.Casual</th>\n",
       "      <th>genres.Indie</th>\n",
       "      <th>genres.Simulation</th>\n",
       "      <th>genres.Strategy</th>\n",
       "      <th>genres.Free to Play</th>\n",
       "      <th>genres.RPG</th>\n",
       "      <th>genres.Sports</th>\n",
       "      <th>genres.Adventure</th>\n",
       "      <th>genres.Racing</th>\n",
       "      <th>genres.Early Access</th>\n",
       "      <th>genres.Massively Multiplayer</th>\n",
       "      <th>genres.Web Publishing</th>\n",
       "      <th>genres.Education</th>\n",
       "      <th>genres.Software Training</th>\n",
       "      <th>genres.Utilities</th>\n",
       "      <th>genres.Audio Production</th>\n",
       "      <th>genres.Video Production</th>\n",
       "      <th>genres.Photo Editing</th>\n",
       "    </tr>\n",
       "  </thead>\n",
       "  <tbody>\n",
       "    <tr>\n",
       "      <th>88310</th>\n",
       "      <td>1</td>\n",
       "      <td>1</td>\n",
       "      <td>1</td>\n",
       "      <td>1</td>\n",
       "      <td>1</td>\n",
       "      <td>0</td>\n",
       "      <td>0</td>\n",
       "      <td>0</td>\n",
       "      <td>0</td>\n",
       "      <td>0</td>\n",
       "      <td>0</td>\n",
       "      <td>0</td>\n",
       "      <td>0</td>\n",
       "      <td>0</td>\n",
       "      <td>0</td>\n",
       "      <td>0</td>\n",
       "      <td>0</td>\n",
       "      <td>0</td>\n",
       "      <td>0</td>\n",
       "    </tr>\n",
       "    <tr>\n",
       "      <th>88311</th>\n",
       "      <td>0</td>\n",
       "      <td>0</td>\n",
       "      <td>1</td>\n",
       "      <td>0</td>\n",
       "      <td>1</td>\n",
       "      <td>1</td>\n",
       "      <td>1</td>\n",
       "      <td>0</td>\n",
       "      <td>0</td>\n",
       "      <td>0</td>\n",
       "      <td>0</td>\n",
       "      <td>0</td>\n",
       "      <td>0</td>\n",
       "      <td>0</td>\n",
       "      <td>0</td>\n",
       "      <td>0</td>\n",
       "      <td>0</td>\n",
       "      <td>0</td>\n",
       "      <td>0</td>\n",
       "    </tr>\n",
       "    <tr>\n",
       "      <th>88312</th>\n",
       "      <td>0</td>\n",
       "      <td>1</td>\n",
       "      <td>1</td>\n",
       "      <td>1</td>\n",
       "      <td>0</td>\n",
       "      <td>1</td>\n",
       "      <td>0</td>\n",
       "      <td>1</td>\n",
       "      <td>0</td>\n",
       "      <td>0</td>\n",
       "      <td>0</td>\n",
       "      <td>0</td>\n",
       "      <td>0</td>\n",
       "      <td>0</td>\n",
       "      <td>0</td>\n",
       "      <td>0</td>\n",
       "      <td>0</td>\n",
       "      <td>0</td>\n",
       "      <td>0</td>\n",
       "    </tr>\n",
       "    <tr>\n",
       "      <th>88313</th>\n",
       "      <td>1</td>\n",
       "      <td>1</td>\n",
       "      <td>0</td>\n",
       "      <td>0</td>\n",
       "      <td>0</td>\n",
       "      <td>0</td>\n",
       "      <td>0</td>\n",
       "      <td>0</td>\n",
       "      <td>1</td>\n",
       "      <td>0</td>\n",
       "      <td>0</td>\n",
       "      <td>0</td>\n",
       "      <td>0</td>\n",
       "      <td>0</td>\n",
       "      <td>0</td>\n",
       "      <td>0</td>\n",
       "      <td>0</td>\n",
       "      <td>0</td>\n",
       "      <td>0</td>\n",
       "    </tr>\n",
       "    <tr>\n",
       "      <th>88315</th>\n",
       "      <td>1</td>\n",
       "      <td>0</td>\n",
       "      <td>0</td>\n",
       "      <td>1</td>\n",
       "      <td>0</td>\n",
       "      <td>0</td>\n",
       "      <td>0</td>\n",
       "      <td>0</td>\n",
       "      <td>1</td>\n",
       "      <td>0</td>\n",
       "      <td>0</td>\n",
       "      <td>0</td>\n",
       "      <td>0</td>\n",
       "      <td>0</td>\n",
       "      <td>0</td>\n",
       "      <td>0</td>\n",
       "      <td>0</td>\n",
       "      <td>0</td>\n",
       "      <td>0</td>\n",
       "    </tr>\n",
       "    <tr>\n",
       "      <th>...</th>\n",
       "      <td>...</td>\n",
       "      <td>...</td>\n",
       "      <td>...</td>\n",
       "      <td>...</td>\n",
       "      <td>...</td>\n",
       "      <td>...</td>\n",
       "      <td>...</td>\n",
       "      <td>...</td>\n",
       "      <td>...</td>\n",
       "      <td>...</td>\n",
       "      <td>...</td>\n",
       "      <td>...</td>\n",
       "      <td>...</td>\n",
       "      <td>...</td>\n",
       "      <td>...</td>\n",
       "      <td>...</td>\n",
       "      <td>...</td>\n",
       "      <td>...</td>\n",
       "      <td>...</td>\n",
       "    </tr>\n",
       "    <tr>\n",
       "      <th>120439</th>\n",
       "      <td>1</td>\n",
       "      <td>1</td>\n",
       "      <td>1</td>\n",
       "      <td>0</td>\n",
       "      <td>0</td>\n",
       "      <td>0</td>\n",
       "      <td>0</td>\n",
       "      <td>0</td>\n",
       "      <td>1</td>\n",
       "      <td>0</td>\n",
       "      <td>0</td>\n",
       "      <td>0</td>\n",
       "      <td>0</td>\n",
       "      <td>0</td>\n",
       "      <td>0</td>\n",
       "      <td>0</td>\n",
       "      <td>0</td>\n",
       "      <td>0</td>\n",
       "      <td>0</td>\n",
       "    </tr>\n",
       "    <tr>\n",
       "      <th>120440</th>\n",
       "      <td>0</td>\n",
       "      <td>1</td>\n",
       "      <td>1</td>\n",
       "      <td>1</td>\n",
       "      <td>1</td>\n",
       "      <td>0</td>\n",
       "      <td>0</td>\n",
       "      <td>0</td>\n",
       "      <td>0</td>\n",
       "      <td>0</td>\n",
       "      <td>0</td>\n",
       "      <td>0</td>\n",
       "      <td>0</td>\n",
       "      <td>0</td>\n",
       "      <td>0</td>\n",
       "      <td>0</td>\n",
       "      <td>0</td>\n",
       "      <td>0</td>\n",
       "      <td>0</td>\n",
       "    </tr>\n",
       "    <tr>\n",
       "      <th>120441</th>\n",
       "      <td>0</td>\n",
       "      <td>1</td>\n",
       "      <td>1</td>\n",
       "      <td>0</td>\n",
       "      <td>1</td>\n",
       "      <td>0</td>\n",
       "      <td>0</td>\n",
       "      <td>0</td>\n",
       "      <td>0</td>\n",
       "      <td>0</td>\n",
       "      <td>0</td>\n",
       "      <td>0</td>\n",
       "      <td>0</td>\n",
       "      <td>0</td>\n",
       "      <td>0</td>\n",
       "      <td>0</td>\n",
       "      <td>0</td>\n",
       "      <td>0</td>\n",
       "      <td>0</td>\n",
       "    </tr>\n",
       "    <tr>\n",
       "      <th>120442</th>\n",
       "      <td>0</td>\n",
       "      <td>0</td>\n",
       "      <td>1</td>\n",
       "      <td>1</td>\n",
       "      <td>0</td>\n",
       "      <td>0</td>\n",
       "      <td>0</td>\n",
       "      <td>0</td>\n",
       "      <td>0</td>\n",
       "      <td>1</td>\n",
       "      <td>0</td>\n",
       "      <td>0</td>\n",
       "      <td>0</td>\n",
       "      <td>0</td>\n",
       "      <td>0</td>\n",
       "      <td>0</td>\n",
       "      <td>0</td>\n",
       "      <td>0</td>\n",
       "      <td>0</td>\n",
       "    </tr>\n",
       "    <tr>\n",
       "      <th>120443</th>\n",
       "      <td>0</td>\n",
       "      <td>1</td>\n",
       "      <td>1</td>\n",
       "      <td>0</td>\n",
       "      <td>0</td>\n",
       "      <td>0</td>\n",
       "      <td>0</td>\n",
       "      <td>0</td>\n",
       "      <td>0</td>\n",
       "      <td>0</td>\n",
       "      <td>0</td>\n",
       "      <td>0</td>\n",
       "      <td>0</td>\n",
       "      <td>0</td>\n",
       "      <td>0</td>\n",
       "      <td>0</td>\n",
       "      <td>0</td>\n",
       "      <td>0</td>\n",
       "      <td>0</td>\n",
       "    </tr>\n",
       "  </tbody>\n",
       "</table>\n",
       "<p>22530 rows × 19 columns</p>\n",
       "</div>"
      ],
      "text/plain": [
       "        genres.Action  genres.Casual  genres.Indie  genres.Simulation  \\\n",
       "88310               1              1             1                  1   \n",
       "88311               0              0             1                  0   \n",
       "88312               0              1             1                  1   \n",
       "88313               1              1             0                  0   \n",
       "88315               1              0             0                  1   \n",
       "...               ...            ...           ...                ...   \n",
       "120439              1              1             1                  0   \n",
       "120440              0              1             1                  1   \n",
       "120441              0              1             1                  0   \n",
       "120442              0              0             1                  1   \n",
       "120443              0              1             1                  0   \n",
       "\n",
       "        genres.Strategy  genres.Free to Play  genres.RPG  genres.Sports  \\\n",
       "88310                 1                    0           0              0   \n",
       "88311                 1                    1           1              0   \n",
       "88312                 0                    1           0              1   \n",
       "88313                 0                    0           0              0   \n",
       "88315                 0                    0           0              0   \n",
       "...                 ...                  ...         ...            ...   \n",
       "120439                0                    0           0              0   \n",
       "120440                1                    0           0              0   \n",
       "120441                1                    0           0              0   \n",
       "120442                0                    0           0              0   \n",
       "120443                0                    0           0              0   \n",
       "\n",
       "        genres.Adventure  genres.Racing  genres.Early Access  \\\n",
       "88310                  0              0                    0   \n",
       "88311                  0              0                    0   \n",
       "88312                  0              0                    0   \n",
       "88313                  1              0                    0   \n",
       "88315                  1              0                    0   \n",
       "...                  ...            ...                  ...   \n",
       "120439                 1              0                    0   \n",
       "120440                 0              0                    0   \n",
       "120441                 0              0                    0   \n",
       "120442                 0              1                    0   \n",
       "120443                 0              0                    0   \n",
       "\n",
       "        genres.Massively Multiplayer  genres.Web Publishing  genres.Education  \\\n",
       "88310                              0                      0                 0   \n",
       "88311                              0                      0                 0   \n",
       "88312                              0                      0                 0   \n",
       "88313                              0                      0                 0   \n",
       "88315                              0                      0                 0   \n",
       "...                              ...                    ...               ...   \n",
       "120439                             0                      0                 0   \n",
       "120440                             0                      0                 0   \n",
       "120441                             0                      0                 0   \n",
       "120442                             0                      0                 0   \n",
       "120443                             0                      0                 0   \n",
       "\n",
       "        genres.Software Training  genres.Utilities  genres.Audio Production  \\\n",
       "88310                          0                 0                        0   \n",
       "88311                          0                 0                        0   \n",
       "88312                          0                 0                        0   \n",
       "88313                          0                 0                        0   \n",
       "88315                          0                 0                        0   \n",
       "...                          ...               ...                      ...   \n",
       "120439                         0                 0                        0   \n",
       "120440                         0                 0                        0   \n",
       "120441                         0                 0                        0   \n",
       "120442                         0                 0                        0   \n",
       "120443                         0                 0                        0   \n",
       "\n",
       "        genres.Video Production  genres.Photo Editing  \n",
       "88310                         0                     0  \n",
       "88311                         0                     0  \n",
       "88312                         0                     0  \n",
       "88313                         0                     0  \n",
       "88315                         0                     0  \n",
       "...                         ...                   ...  \n",
       "120439                        0                     0  \n",
       "120440                        0                     0  \n",
       "120441                        0                     0  \n",
       "120442                        0                     0  \n",
       "120443                        0                     0  \n",
       "\n",
       "[22530 rows x 19 columns]"
      ]
     },
     "execution_count": 24,
     "metadata": {},
     "output_type": "execute_result"
    }
   ],
   "source": [
    "games_desanidado[['genres.Action', 'genres.Casual', 'genres.Indie', 'genres.Simulation', 'genres.Strategy', 'genres.Free to Play', 'genres.RPG',\n",
    "'genres.Sports', 'genres.Adventure', 'genres.Racing', 'genres.Early Access', 'genres.Massively Multiplayer',\n",
    "'genres.Web Publishing','genres.Education', 'genres.Software Training', 'genres.Utilities',\n",
    "'genres.Audio Production', 'genres.Video Production', 'genres.Photo Editing']]"
   ]
  }
 ],
 "metadata": {
  "kernelspec": {
   "display_name": "Python 3",
   "language": "python",
   "name": "python3"
  },
  "language_info": {
   "codemirror_mode": {
    "name": "ipython",
    "version": 3
   },
   "file_extension": ".py",
   "mimetype": "text/x-python",
   "name": "python",
   "nbconvert_exporter": "python",
   "pygments_lexer": "ipython3",
   "version": "3.11.2"
  },
  "orig_nbformat": 4
 },
 "nbformat": 4,
 "nbformat_minor": 2
}
