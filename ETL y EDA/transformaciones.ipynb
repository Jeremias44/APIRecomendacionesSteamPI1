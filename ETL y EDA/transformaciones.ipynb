{
 "cells": [
  {
   "cell_type": "code",
   "execution_count": 1,
   "metadata": {},
   "outputs": [],
   "source": [
    "import pandas as pd\n",
    "import numpy as np\n",
    "from datetime import datetime"
   ]
  },
  {
   "cell_type": "code",
   "execution_count": 2,
   "metadata": {},
   "outputs": [],
   "source": [
    "from sklearn.preprocessing import MinMaxScaler\n",
    "from sklearn.metrics import pairwise_distances\n",
    "from sklearn.impute import SimpleImputer\n",
    "from sklearn.cluster import KMeans"
   ]
  },
  {
   "cell_type": "code",
   "execution_count": 3,
   "metadata": {},
   "outputs": [],
   "source": [
    "from sklearn.decomposition import PCA\n",
    "import matplotlib.pyplot as plt"
   ]
  },
  {
   "cell_type": "markdown",
   "metadata": {},
   "source": [
    "# Importación de los archivos csv base"
   ]
  },
  {
   "cell_type": "markdown",
   "metadata": {},
   "source": [
    "### A partir de estos archivos haremos las modificaciones necesarias para crear los csv específicos que serán consultados en cada función. Los csv de cada función serán más pequeños y específicos, por lo que utilizarán menos memoria y optimizarán el tiempo de cada consulta."
   ]
  },
  {
   "cell_type": "code",
   "execution_count": 4,
   "metadata": {},
   "outputs": [],
   "source": [
    "g = pd.read_csv(r'csv_ETL\\games.csv')"
   ]
  },
  {
   "cell_type": "code",
   "execution_count": 5,
   "metadata": {},
   "outputs": [],
   "source": [
    "games = pd.read_csv(r'csv_ETL\\games_desanidado.csv')"
   ]
  },
  {
   "cell_type": "code",
   "execution_count": 6,
   "metadata": {},
   "outputs": [],
   "source": [
    "reviews = pd.read_csv(r'csv_ETL\\2reviews_desanidado.csv')"
   ]
  },
  {
   "cell_type": "code",
   "execution_count": 7,
   "metadata": {},
   "outputs": [],
   "source": [
    "items = pd.read_csv(r'csv_ETL\\items_desanidado.csv')"
   ]
  },
  {
   "cell_type": "markdown",
   "metadata": {},
   "source": [
    "# Transformación para función 1"
   ]
  },
  {
   "cell_type": "markdown",
   "metadata": {},
   "source": [
    "def userdata( User_id : str ): Debe devolver cantidad de dinero gastado por el usuario, el porcentaje de recomendación en base a reviews.recommend y cantidad de items."
   ]
  },
  {
   "cell_type": "markdown",
   "metadata": {},
   "source": [
    "### Quiero tener un DataFrame que tome los datos que necesito de los 3 df. Hago doble merge"
   ]
  },
  {
   "cell_type": "code",
   "execution_count": 9,
   "metadata": {},
   "outputs": [],
   "source": [
    "# Realizamos el merge entre items (user_id, items_count y item_id) y games (item_id y price) utilizando las columna item_id como clave de unión\n",
    "merged_1 = items.merge(games[['item_id', 'price']], how='inner', on='item_id')\n",
    "# Seleccionamos las columnas que nos interesan\n",
    "merged_1 = merged_1[['user_id', 'items_count', 'item_id', 'price']]"
   ]
  },
  {
   "cell_type": "code",
   "execution_count": 10,
   "metadata": {},
   "outputs": [],
   "source": [
    "# Realizamos el merge entre merged_df y reviews (recommend) utilizando la columna user_id como clave de unión\n",
    "merged_1 = merged_1.merge(reviews[['user_id', 'recommend']], how='inner', on='user_id')"
   ]
  },
  {
   "cell_type": "code",
   "execution_count": 13,
   "metadata": {},
   "outputs": [
    {
     "data": {
      "text/plain": [
       "(2434256, 5)"
      ]
     },
     "execution_count": 13,
     "metadata": {},
     "output_type": "execute_result"
    }
   ],
   "source": [
    "merged_1.shape"
   ]
  },
  {
   "cell_type": "code",
   "execution_count": 12,
   "metadata": {},
   "outputs": [],
   "source": [
    "merged_1 = merged_1.drop_duplicates()"
   ]
  },
  {
   "cell_type": "markdown",
   "metadata": {},
   "source": [
    "### Exportación del DataFrame merged_df, guardado como 1userdata.csv, que usaremos para la consulta de la función userdata"
   ]
  },
  {
   "cell_type": "code",
   "execution_count": 14,
   "metadata": {},
   "outputs": [],
   "source": [
    "merged_1.to_csv(r'csv_funciones\\1userdata.csv', index=False)"
   ]
  },
  {
   "cell_type": "code",
   "execution_count": 101,
   "metadata": {},
   "outputs": [],
   "source": [
    "merged_1 = pd.read_csv(r'csv_funciones\\1userdata.csv')"
   ]
  },
  {
   "cell_type": "code",
   "execution_count": 15,
   "metadata": {},
   "outputs": [
    {
     "data": {
      "text/html": [
       "<div>\n",
       "<style scoped>\n",
       "    .dataframe tbody tr th:only-of-type {\n",
       "        vertical-align: middle;\n",
       "    }\n",
       "\n",
       "    .dataframe tbody tr th {\n",
       "        vertical-align: top;\n",
       "    }\n",
       "\n",
       "    .dataframe thead th {\n",
       "        text-align: right;\n",
       "    }\n",
       "</style>\n",
       "<table border=\"1\" class=\"dataframe\">\n",
       "  <thead>\n",
       "    <tr style=\"text-align: right;\">\n",
       "      <th></th>\n",
       "      <th>user_id</th>\n",
       "      <th>items_count</th>\n",
       "      <th>item_id</th>\n",
       "      <th>price</th>\n",
       "      <th>recommend</th>\n",
       "    </tr>\n",
       "  </thead>\n",
       "  <tbody>\n",
       "    <tr>\n",
       "      <th>0</th>\n",
       "      <td>76561197970982479</td>\n",
       "      <td>277</td>\n",
       "      <td>10</td>\n",
       "      <td>9.99</td>\n",
       "      <td>1</td>\n",
       "    </tr>\n",
       "    <tr>\n",
       "      <th>3</th>\n",
       "      <td>76561197970982479</td>\n",
       "      <td>277</td>\n",
       "      <td>20</td>\n",
       "      <td>4.99</td>\n",
       "      <td>1</td>\n",
       "    </tr>\n",
       "  </tbody>\n",
       "</table>\n",
       "</div>"
      ],
      "text/plain": [
       "             user_id  items_count  item_id  price  recommend\n",
       "0  76561197970982479          277       10   9.99          1\n",
       "3  76561197970982479          277       20   4.99          1"
      ]
     },
     "execution_count": 15,
     "metadata": {},
     "output_type": "execute_result"
    }
   ],
   "source": [
    "merged_1.head(2)"
   ]
  },
  {
   "cell_type": "markdown",
   "metadata": {},
   "source": [
    "# Transformación para función 2"
   ]
  },
  {
   "cell_type": "markdown",
   "metadata": {},
   "source": [
    "def countreviews( YYYY-MM-DD y YYYY-MM-DD : str ): Cantidad de usuarios que realizaron reviews entre las fechas dadas y, el porcentaje de recomendación de los mismos en base a reviews.recommend."
   ]
  },
  {
   "cell_type": "markdown",
   "metadata": {},
   "source": [
    "### Convierto a datetime los valores de posted"
   ]
  },
  {
   "cell_type": "code",
   "execution_count": 16,
   "metadata": {},
   "outputs": [],
   "source": [
    "# Convierto los valores a tipo date (esta conversión no se mantiene al exportar como csv, por eso no lo exporto)\n",
    "reviews['posted'] = pd.to_datetime(reviews['posted'], errors='coerce')"
   ]
  },
  {
   "cell_type": "markdown",
   "metadata": {},
   "source": [
    "código para la función 2:"
   ]
  },
  {
   "cell_type": "markdown",
   "metadata": {},
   "source": [
    "primera parte. cantidad de usuarios"
   ]
  },
  {
   "cell_type": "code",
   "execution_count": 17,
   "metadata": {},
   "outputs": [
    {
     "data": {
      "text/plain": [
       "1612"
      ]
     },
     "execution_count": 17,
     "metadata": {},
     "output_type": "execute_result"
    }
   ],
   "source": [
    "len(reviews.user_id[(datetime(2012, 7, 15) < reviews.posted) & (datetime(2013, 7, 15) > reviews.posted)].unique())"
   ]
  },
  {
   "cell_type": "markdown",
   "metadata": {},
   "source": [
    "segunda parte. recomendaciones"
   ]
  },
  {
   "cell_type": "code",
   "execution_count": 18,
   "metadata": {},
   "outputs": [
    {
     "data": {
      "text/plain": [
       "array(['doctr', 'maplemage', 'Wackky', ..., '76561198095271002',\n",
       "       '76561198095921346', 'HarrisonDealSteam'], dtype=object)"
      ]
     },
     "execution_count": 18,
     "metadata": {},
     "output_type": "execute_result"
    }
   ],
   "source": [
    "lista_user = reviews.user_id[(datetime(2012, 7, 15) < reviews.posted) & (datetime(2013, 7, 15) > reviews.posted)].unique()\n",
    "lista_user"
   ]
  },
  {
   "cell_type": "code",
   "execution_count": 19,
   "metadata": {},
   "outputs": [
    {
     "data": {
      "text/plain": [
       "92.26112565445025"
      ]
     },
     "execution_count": 19,
     "metadata": {},
     "output_type": "execute_result"
    }
   ],
   "source": [
    "recomendaciones_positivas = reviews.recommend[reviews.user_id.isin(lista_user)].sum()\n",
    "recomendaciones_totales = reviews.recommend[reviews.user_id.isin(lista_user)].count()\n",
    "porcentaje_recomendaciones = (recomendaciones_positivas/recomendaciones_totales)*100\n",
    "porcentaje_recomendaciones"
   ]
  },
  {
   "cell_type": "markdown",
   "metadata": {},
   "source": [
    "# Transformación para función 3"
   ]
  },
  {
   "cell_type": "markdown",
   "metadata": {},
   "source": [
    "def genre( género : str ): Devuelve el puesto en el que se encuentra un género sobre el ranking de los mismos analizado bajo la columna PlayTimeForever."
   ]
  },
  {
   "cell_type": "markdown",
   "metadata": {},
   "source": [
    "### Quiero tener en un DataFrame todos los datos que necesito. Hago merge"
   ]
  },
  {
   "cell_type": "code",
   "execution_count": null,
   "metadata": {},
   "outputs": [],
   "source": [
    "['Action',\n",
    " 'Casual',\n",
    " 'Indie',\n",
    " 'Simulation',\n",
    " 'Strategy',\n",
    " 'Free to Play',\n",
    " 'RPG',\n",
    " 'Sports',\n",
    " 'Adventure',\n",
    " 'Racing',\n",
    " 'Early Access',\n",
    " 'Massively Multiplayer',\n",
    " 'Animation &amp; Modeling',\n",
    " 'Web Publishing',\n",
    " 'Education',\n",
    " 'Software Training',\n",
    " 'Utilities',\n",
    " 'Design &amp; Illustration',\n",
    " 'Audio Production',\n",
    " 'Video Production',\n",
    " 'Photo Editing']"
   ]
  },
  {
   "cell_type": "code",
   "execution_count": 20,
   "metadata": {},
   "outputs": [],
   "source": [
    "generos = ['genres.Action', 'genres.Casual', 'genres.Indie', 'genres.Simulation', 'genres.Strategy', 'genres.Free to Play', 'genres.RPG',\n",
    "'genres.Sports', 'genres.Adventure', 'genres.Racing', 'genres.Early Access', 'genres.Massively Multiplayer', 'genres.Animation &amp; Modeling',\n",
    "'genres.Web Publishing','genres.Education', 'genres.Software Training', 'genres.Utilities', 'genres.Design &amp; Illustration',\n",
    "'genres.Audio Production', 'genres.Video Production', 'genres.Photo Editing']"
   ]
  },
  {
   "cell_type": "code",
   "execution_count": 21,
   "metadata": {},
   "outputs": [],
   "source": [
    "generos_item = ['genres.Action', 'genres.Casual', 'genres.Indie', 'genres.Simulation', 'genres.Strategy', 'genres.Free to Play', 'genres.RPG',\n",
    "'genres.Sports', 'genres.Adventure', 'genres.Racing', 'genres.Early Access', 'genres.Massively Multiplayer', 'genres.Animation &amp; Modeling',\n",
    "'genres.Web Publishing','genres.Education', 'genres.Software Training', 'genres.Utilities', 'genres.Design &amp; Illustration',\n",
    "'genres.Audio Production', 'genres.Video Production', 'genres.Photo Editing', 'item_id']"
   ]
  },
  {
   "cell_type": "code",
   "execution_count": 22,
   "metadata": {},
   "outputs": [],
   "source": [
    "generos_playtime = ['genres.Action', 'genres.Casual', 'genres.Indie', 'genres.Simulation', 'genres.Strategy', 'genres.Free to Play', 'genres.RPG',\n",
    "'genres.Sports', 'genres.Adventure', 'genres.Racing', 'genres.Early Access', 'genres.Massively Multiplayer', 'genres.Animation &amp; Modeling',\n",
    "'genres.Web Publishing','genres.Education', 'genres.Software Training', 'genres.Utilities', 'genres.Design &amp; Illustration',\n",
    "'genres.Audio Production', 'genres.Video Production', 'genres.Photo Editing', 'playtime_forever']"
   ]
  },
  {
   "cell_type": "markdown",
   "metadata": {},
   "source": [
    "Hago un df con los 19 géneros como variables dummies y al final playtime_forever"
   ]
  },
  {
   "cell_type": "code",
   "execution_count": 23,
   "metadata": {},
   "outputs": [],
   "source": [
    "# Realizo el merge entre items y games (traigo todos los genres y item_id). Utilizo la columna item_id como clave de unión\n",
    "merged_3 = items.merge(games[generos_item], how='inner', on='item_id')\n",
    "# Selecciono las columnas que me interesan (genres y playtime_forever)\n",
    "merged_3 = merged_3[generos_playtime]\n",
    "\n",
    "# Demora 12s"
   ]
  },
  {
   "cell_type": "markdown",
   "metadata": {},
   "source": [
    "Cambio el nombre de las columnas con genres."
   ]
  },
  {
   "cell_type": "code",
   "execution_count": 24,
   "metadata": {},
   "outputs": [],
   "source": [
    "# Obtengo la lista de nombres de columnas\n",
    "column_names = merged_3.columns.tolist()\n",
    "# Elimino 'genres.' de los nombres de columnas\n",
    "new_column_names = [name.replace('genres.', '') for name in column_names]\n",
    "# Asigno los nuevos nombres de columna al DataFrame\n",
    "merged_3.columns = new_column_names"
   ]
  },
  {
   "cell_type": "code",
   "execution_count": 25,
   "metadata": {},
   "outputs": [],
   "source": [
    "ranking_3 = merged_3.copy()"
   ]
  },
  {
   "cell_type": "markdown",
   "metadata": {},
   "source": [
    "Pondero cada género, al multiplicar por playtime de cada usuario, y luego sumarlo"
   ]
  },
  {
   "cell_type": "code",
   "execution_count": 26,
   "metadata": {},
   "outputs": [],
   "source": [
    "# Convierto el DataFrame a un arreglo NumPy\n",
    "data = ranking_3.to_numpy()\n",
    "# Multiplico todas las columnas excepto la última por la última columna\n",
    "data[:, :-1] *= data[:, -1].reshape(-1, 1)\n",
    "# Creo un nuevo DataFrame a partir del arreglo NumPy\n",
    "new_ranking_3 = pd.DataFrame(data, columns=ranking_3.columns)"
   ]
  },
  {
   "cell_type": "markdown",
   "metadata": {},
   "source": [
    "Sumo cada columna, con Numpy para acelerar proceso"
   ]
  },
  {
   "cell_type": "code",
   "execution_count": 27,
   "metadata": {},
   "outputs": [
    {
     "name": "stdout",
     "output_type": "stream",
     "text": [
      "[('Action', 3080952217), ('Casual', 244567520), ('Indie', 1463369222), ('Simulation', 865034812), ('Strategy', 656668840), ('Free to Play', 585518437), ('RPG', 1020722128), ('Sports', 63855624), ('Adventure', 886287552), ('Racing', 62315437), ('Early Access', 158444758), ('Massively Multiplayer', 428298958), ('Animation &amp; Modeling', 437740), ('Web Publishing', 2545948), ('Education', 221541), ('Software Training', 79857), ('Utilities', 3024727), ('Design &amp; Illustration', 2514971), ('Audio Production', 70429), ('Video Production', 257951), ('Photo Editing', 51435)]\n"
     ]
    }
   ],
   "source": [
    "# Convierto el DataFrame a un arreglo NumPy\n",
    "data = new_ranking_3.to_numpy()\n",
    "# Sumo los valores de cada columna excepto la última utilizando NumPy\n",
    "column_sums = np.sum(data[:, :-1], axis=0)\n",
    "# Creo una lista de tuplas para almacenar los resultados de suma\n",
    "sums_list = [(column, sum_value) for column, sum_value in zip(new_ranking_3.columns[:-1], column_sums)]\n",
    "# Ahora 'sums_list' contiene las sumas de valores en forma de lista de tuplas\n",
    "print(sums_list)"
   ]
  },
  {
   "cell_type": "code",
   "execution_count": 28,
   "metadata": {},
   "outputs": [
    {
     "name": "stdout",
     "output_type": "stream",
     "text": [
      "[('Action', 1), ('Indie', 2), ('RPG', 3), ('Adventure', 4), ('Simulation', 5), ('Strategy', 6), ('Free to Play', 7), ('Massively Multiplayer', 8), ('Casual', 9), ('Early Access', 10), ('Sports', 11), ('Racing', 12), ('Utilities', 13), ('Web Publishing', 14), ('Design &amp; Illustration', 15), ('Animation &amp; Modeling', 16), ('Video Production', 17), ('Education', 18), ('Software Training', 19), ('Audio Production', 20), ('Photo Editing', 21)]\n"
     ]
    }
   ],
   "source": [
    "# Ordeno la lista de tuplas en función del valor de la suma en orden descendente\n",
    "sorted_sums = sorted(sums_list, key=lambda x: x[1], reverse=True)\n",
    "# Creo una nueva lista de tuplas con el ranking\n",
    "ranking = [(column, rank + 1) for rank, (column, _) in enumerate(sorted_sums)]\n",
    "# Ahora 'ranking' contiene el ranking ordenado de acuerdo a las sumas\n",
    "print(ranking)"
   ]
  },
  {
   "cell_type": "markdown",
   "metadata": {},
   "source": [
    "# Transformación para función 4"
   ]
  },
  {
   "cell_type": "markdown",
   "metadata": {},
   "source": [
    "def userforgenre( género : str ): Top 5 de usuarios con más horas de juego en el género dado, con su URL (del user) y user_id."
   ]
  },
  {
   "cell_type": "markdown",
   "metadata": {},
   "source": [
    "### Voy a hacer merge para quedarme un df con user_id, user_url, los 19 géneros y playtime_forever"
   ]
  },
  {
   "cell_type": "code",
   "execution_count": 29,
   "metadata": {},
   "outputs": [
    {
     "data": {
      "text/html": [
       "<div>\n",
       "<style scoped>\n",
       "    .dataframe tbody tr th:only-of-type {\n",
       "        vertical-align: middle;\n",
       "    }\n",
       "\n",
       "    .dataframe tbody tr th {\n",
       "        vertical-align: top;\n",
       "    }\n",
       "\n",
       "    .dataframe thead th {\n",
       "        text-align: right;\n",
       "    }\n",
       "</style>\n",
       "<table border=\"1\" class=\"dataframe\">\n",
       "  <thead>\n",
       "    <tr style=\"text-align: right;\">\n",
       "      <th></th>\n",
       "      <th>user_id</th>\n",
       "      <th>items_count</th>\n",
       "      <th>user_url</th>\n",
       "      <th>item_id</th>\n",
       "      <th>item_name</th>\n",
       "      <th>playtime_forever</th>\n",
       "    </tr>\n",
       "  </thead>\n",
       "  <tbody>\n",
       "    <tr>\n",
       "      <th>0</th>\n",
       "      <td>76561197970982479</td>\n",
       "      <td>277</td>\n",
       "      <td>http://steamcommunity.com/profiles/76561197970...</td>\n",
       "      <td>10</td>\n",
       "      <td>Counter-Strike</td>\n",
       "      <td>6</td>\n",
       "    </tr>\n",
       "    <tr>\n",
       "      <th>1</th>\n",
       "      <td>76561197970982479</td>\n",
       "      <td>277</td>\n",
       "      <td>http://steamcommunity.com/profiles/76561197970...</td>\n",
       "      <td>20</td>\n",
       "      <td>Team Fortress Classic</td>\n",
       "      <td>0</td>\n",
       "    </tr>\n",
       "  </tbody>\n",
       "</table>\n",
       "</div>"
      ],
      "text/plain": [
       "             user_id  items_count  \\\n",
       "0  76561197970982479          277   \n",
       "1  76561197970982479          277   \n",
       "\n",
       "                                            user_url  item_id  \\\n",
       "0  http://steamcommunity.com/profiles/76561197970...       10   \n",
       "1  http://steamcommunity.com/profiles/76561197970...       20   \n",
       "\n",
       "               item_name  playtime_forever  \n",
       "0         Counter-Strike                 6  \n",
       "1  Team Fortress Classic                 0  "
      ]
     },
     "execution_count": 29,
     "metadata": {},
     "output_type": "execute_result"
    }
   ],
   "source": [
    "items.head(2)"
   ]
  },
  {
   "cell_type": "code",
   "execution_count": 30,
   "metadata": {},
   "outputs": [],
   "source": [
    "generos_item = ['genres.Action', 'genres.Casual', 'genres.Indie', 'genres.Simulation', 'genres.Strategy', 'genres.Free to Play', 'genres.RPG',\n",
    "'genres.Sports', 'genres.Adventure', 'genres.Racing', 'genres.Early Access', 'genres.Massively Multiplayer', 'genres.Animation &amp; Modeling',\n",
    "'genres.Web Publishing','genres.Education', 'genres.Software Training', 'genres.Utilities', 'genres.Design &amp; Illustration',\n",
    "'genres.Audio Production', 'genres.Video Production', 'genres.Photo Editing', 'item_id']"
   ]
  },
  {
   "cell_type": "code",
   "execution_count": 31,
   "metadata": {},
   "outputs": [],
   "source": [
    "generos_play_user = ['user_id', 'user_url', 'playtime_forever', 'genres.Action', 'genres.Casual', 'genres.Indie', 'genres.Simulation', 'genres.Strategy', 'genres.Free to Play', 'genres.RPG',\n",
    "'genres.Sports', 'genres.Adventure', 'genres.Racing', 'genres.Early Access', 'genres.Massively Multiplayer', 'genres.Animation &amp; Modeling',\n",
    "'genres.Web Publishing','genres.Education', 'genres.Software Training', 'genres.Utilities', 'genres.Design &amp; Illustration',\n",
    "'genres.Audio Production', 'genres.Video Production', 'genres.Photo Editing']"
   ]
  },
  {
   "cell_type": "code",
   "execution_count": 32,
   "metadata": {},
   "outputs": [],
   "source": [
    "# Realizo el merge entre items ('user_id', 'user_url', 'playtime_forever') y games (item_id y todos los genres.) Utilizo item_id como clave de unión\n",
    "merged_4 = items.merge(games[generos_item], how='inner', on='item_id')\n",
    "# Selecciono las columnas que me interesan ('user_id', 'user_url', 'playtime_forever' y 'genres')\n",
    "merged_4 = merged_4[generos_play_user]\n",
    "\n",
    "# Demora 14s"
   ]
  },
  {
   "cell_type": "markdown",
   "metadata": {},
   "source": [
    "Cambio el nombre de las columnas con genres."
   ]
  },
  {
   "cell_type": "code",
   "execution_count": 33,
   "metadata": {},
   "outputs": [],
   "source": [
    "# Obtengo la lista de nombres de columnas\n",
    "column_names = merged_4.columns.tolist()\n",
    "# Elimino 'genres.' de los nombres de columnas\n",
    "new_column_names = [name.replace('genres.', '') for name in column_names]\n",
    "# Asigno los nuevos nombres de columna al DataFrame\n",
    "merged_4.columns = new_column_names"
   ]
  },
  {
   "cell_type": "markdown",
   "metadata": {},
   "source": [
    "Pondero cada género, al multiplicar por playtime de cada usuario, y luego sumarlo"
   ]
  },
  {
   "cell_type": "code",
   "execution_count": 34,
   "metadata": {},
   "outputs": [],
   "source": [
    "ranking_4 = merged_4.copy()"
   ]
  },
  {
   "cell_type": "code",
   "execution_count": 35,
   "metadata": {},
   "outputs": [],
   "source": [
    "# Convierto el DataFrame a un arreglo NumPy\n",
    "data = ranking_4.to_numpy()\n",
    "# Multiplico las columnas de la 4 a la 24 inclusive por la columna 3 utilizando NumPy\n",
    "data[:, 3:25] *= data[:, 2].reshape(-1, 1)\n",
    "# Creo un nuevo DataFrame a partir del arreglo NumPy\n",
    "new_ranking_4 = pd.DataFrame(data, columns=ranking_4.columns)\n",
    "\n",
    "# Demora 34s"
   ]
  },
  {
   "cell_type": "markdown",
   "metadata": {},
   "source": [
    "Agrupo por user_id y user_url, para obtener la suma de tiempo jugado por usuario por género"
   ]
  },
  {
   "cell_type": "code",
   "execution_count": 42,
   "metadata": {},
   "outputs": [],
   "source": [
    "# Realiza el groupby y la suma de las columnas. Son 68522 user_id, por lo tanto grouped_data tendrá 68522 filas y 24 columnas\n",
    "grouped_data = new_ranking_4.groupby(['user_id', 'user_url'], as_index=False).sum()\n",
    "\n",
    "# Demora 24s"
   ]
  },
  {
   "cell_type": "code",
   "execution_count": 43,
   "metadata": {},
   "outputs": [
    {
     "data": {
      "text/html": [
       "<div>\n",
       "<style scoped>\n",
       "    .dataframe tbody tr th:only-of-type {\n",
       "        vertical-align: middle;\n",
       "    }\n",
       "\n",
       "    .dataframe tbody tr th {\n",
       "        vertical-align: top;\n",
       "    }\n",
       "\n",
       "    .dataframe thead th {\n",
       "        text-align: right;\n",
       "    }\n",
       "</style>\n",
       "<table border=\"1\" class=\"dataframe\">\n",
       "  <thead>\n",
       "    <tr style=\"text-align: right;\">\n",
       "      <th></th>\n",
       "      <th>user_id</th>\n",
       "      <th>user_url</th>\n",
       "      <th>Simulation</th>\n",
       "    </tr>\n",
       "  </thead>\n",
       "  <tbody>\n",
       "    <tr>\n",
       "      <th>55748</th>\n",
       "      <td>clawbot44</td>\n",
       "      <td>http://steamcommunity.com/id/clawbot44</td>\n",
       "      <td>798258</td>\n",
       "    </tr>\n",
       "    <tr>\n",
       "      <th>45166</th>\n",
       "      <td>Evilutional</td>\n",
       "      <td>http://steamcommunity.com/id/Evilutional</td>\n",
       "      <td>684723</td>\n",
       "    </tr>\n",
       "    <tr>\n",
       "      <th>50069</th>\n",
       "      <td>REBAS_AS_F-T</td>\n",
       "      <td>http://steamcommunity.com/id/REBAS_AS_F-T</td>\n",
       "      <td>671567</td>\n",
       "    </tr>\n",
       "    <tr>\n",
       "      <th>59884</th>\n",
       "      <td>jimmynoe</td>\n",
       "      <td>http://steamcommunity.com/id/jimmynoe</td>\n",
       "      <td>645659</td>\n",
       "    </tr>\n",
       "    <tr>\n",
       "      <th>67844</th>\n",
       "      <td>wolop</td>\n",
       "      <td>http://steamcommunity.com/id/wolop</td>\n",
       "      <td>642773</td>\n",
       "    </tr>\n",
       "  </tbody>\n",
       "</table>\n",
       "</div>"
      ],
      "text/plain": [
       "            user_id                                   user_url Simulation\n",
       "55748     clawbot44     http://steamcommunity.com/id/clawbot44     798258\n",
       "45166   Evilutional   http://steamcommunity.com/id/Evilutional     684723\n",
       "50069  REBAS_AS_F-T  http://steamcommunity.com/id/REBAS_AS_F-T     671567\n",
       "59884      jimmynoe      http://steamcommunity.com/id/jimmynoe     645659\n",
       "67844         wolop         http://steamcommunity.com/id/wolop     642773"
      ]
     },
     "execution_count": 43,
     "metadata": {},
     "output_type": "execute_result"
    }
   ],
   "source": [
    "grouped_data.sort_values(by='Simulation', ascending=False)[['user_id','user_url','Simulation']].head(5)"
   ]
  },
  {
   "cell_type": "markdown",
   "metadata": {},
   "source": [
    "### Exportación del DF grouped_data, guardado como 4userforgenre.csv, que usaremos para la consulta de la función userforgenre"
   ]
  },
  {
   "cell_type": "code",
   "execution_count": 44,
   "metadata": {},
   "outputs": [],
   "source": [
    "grouped_data.to_csv(r'csv_funciones\\4userforgenre.csv', index=False)"
   ]
  },
  {
   "cell_type": "markdown",
   "metadata": {},
   "source": [
    "Prueba de código para la función:"
   ]
  },
  {
   "cell_type": "code",
   "execution_count": 45,
   "metadata": {},
   "outputs": [],
   "source": [
    "gen = 'Simulation'"
   ]
  },
  {
   "cell_type": "code",
   "execution_count": 129,
   "metadata": {},
   "outputs": [],
   "source": [
    "grouped_data = pd.read_csv(r'csv_funciones\\4userforgenre.csv')"
   ]
  },
  {
   "cell_type": "code",
   "execution_count": 46,
   "metadata": {},
   "outputs": [],
   "source": [
    "sorted_grouped_data = grouped_data.sort_values(by=gen, ascending=False)"
   ]
  },
  {
   "cell_type": "code",
   "execution_count": 47,
   "metadata": {},
   "outputs": [
    {
     "data": {
      "text/plain": [
       "{'usuario 1': ['clawbot44', 'http://steamcommunity.com/id/clawbot44'],\n",
       " 'usuario 2': ['Evilutional', 'http://steamcommunity.com/id/Evilutional'],\n",
       " 'usuario 3': ['REBAS_AS_F-T', 'http://steamcommunity.com/id/REBAS_AS_F-T'],\n",
       " 'usuario 4': ['jimmynoe', 'http://steamcommunity.com/id/jimmynoe'],\n",
       " 'usuario 5': ['wolop', 'http://steamcommunity.com/id/wolop']}"
      ]
     },
     "execution_count": 47,
     "metadata": {},
     "output_type": "execute_result"
    }
   ],
   "source": [
    "# Obtén los cinco primeros registros y selecciona las columnas deseadas\n",
    "top_records = sorted_grouped_data.head(5)[['user_id', 'user_url']]\n",
    "\n",
    "# Crea un diccionario con la estructura deseada\n",
    "result_dict = {}\n",
    "count = 1\n",
    "for _, row in top_records.iterrows():\n",
    "    result_dict[f'usuario {count}'] = [row['user_id'], row['user_url']]\n",
    "    count += 1\n",
    "\n",
    "result_dict"
   ]
  },
  {
   "cell_type": "markdown",
   "metadata": {},
   "source": [
    "# Transformación para función 5"
   ]
  },
  {
   "cell_type": "markdown",
   "metadata": {},
   "source": [
    "def developer( desarrollador : str ): Cantidad de items y porcentaje de contenido Free por año según empresa desarrolladora."
   ]
  },
  {
   "cell_type": "markdown",
   "metadata": {},
   "source": [
    "### Hago un DF que contenga solo developer, release_year y price. Le agrego un contador para luego hacer sum()"
   ]
  },
  {
   "cell_type": "markdown",
   "metadata": {},
   "source": [
    "Paso release_date a formato fecha y luego me quedo solo con el año"
   ]
  },
  {
   "cell_type": "code",
   "execution_count": 48,
   "metadata": {},
   "outputs": [],
   "source": [
    "g.release_date = pd.to_datetime(g.release_date, errors='coerce')"
   ]
  },
  {
   "cell_type": "code",
   "execution_count": 49,
   "metadata": {},
   "outputs": [],
   "source": [
    "g['año'] = g['release_date'].dt.year"
   ]
  },
  {
   "cell_type": "markdown",
   "metadata": {},
   "source": [
    "Hago un df con las 3 columnas que necesito"
   ]
  },
  {
   "cell_type": "code",
   "execution_count": 50,
   "metadata": {},
   "outputs": [],
   "source": [
    "g_año = g[['developer', 'año', 'price']]"
   ]
  },
  {
   "cell_type": "code",
   "execution_count": 51,
   "metadata": {},
   "outputs": [
    {
     "name": "stderr",
     "output_type": "stream",
     "text": [
      "C:\\Users\\Usuario\\AppData\\Local\\Temp\\ipykernel_2844\\3852908329.py:1: SettingWithCopyWarning: \n",
      "A value is trying to be set on a copy of a slice from a DataFrame.\n",
      "Try using .loc[row_indexer,col_indexer] = value instead\n",
      "\n",
      "See the caveats in the documentation: https://pandas.pydata.org/pandas-docs/stable/user_guide/indexing.html#returning-a-view-versus-a-copy\n",
      "  g_año['contador'] = 1\n"
     ]
    }
   ],
   "source": [
    "g_año['contador'] = 1"
   ]
  },
  {
   "cell_type": "markdown",
   "metadata": {},
   "source": [
    "### Exportación del DF g_año, guardado como 5developer.csv, que usaremos para la consulta de la función developer"
   ]
  },
  {
   "cell_type": "code",
   "execution_count": 54,
   "metadata": {},
   "outputs": [],
   "source": [
    "g_año.to_csv(r'csv_funciones\\5developer.csv', index=False)"
   ]
  },
  {
   "cell_type": "code",
   "execution_count": 140,
   "metadata": {},
   "outputs": [],
   "source": [
    "g_año = pd.read_csv(r'csv_funciones\\5developer.csv')"
   ]
  },
  {
   "cell_type": "markdown",
   "metadata": {},
   "source": [
    "Prueba de código para la función"
   ]
  },
  {
   "cell_type": "code",
   "execution_count": 55,
   "metadata": {},
   "outputs": [],
   "source": [
    "developer_name = 'Capcom'"
   ]
  },
  {
   "cell_type": "code",
   "execution_count": 56,
   "metadata": {},
   "outputs": [],
   "source": [
    "# Filtra el DataFrame por el desarrollador deseado\n",
    "filtered_data = g_año[g_año['developer'] == developer_name]"
   ]
  },
  {
   "cell_type": "code",
   "execution_count": 57,
   "metadata": {},
   "outputs": [],
   "source": [
    "# Agrupa los datos por año y realiza las operaciones de conteo y porcentaje\n",
    "grouped_data = filtered_data.groupby('año').agg(\n",
    "    registros_distintos=('contador', 'sum'),\n",
    "    porcentaje_price_0=('price', lambda x: round((x == 0.00).mean() * 100, 2))\n",
    ")"
   ]
  },
  {
   "cell_type": "code",
   "execution_count": 58,
   "metadata": {},
   "outputs": [
    {
     "name": "stdout",
     "output_type": "stream",
     "text": [
      "[{'año': 2008.0, 'registros_distintos': 2, 'porcentaje_price_0': 0.0}, {'año': 2009.0, 'registros_distintos': 3, 'porcentaje_price_0': 0.0}, {'año': 2011.0, 'registros_distintos': 8, 'porcentaje_price_0': 0.0}, {'año': 2013.0, 'registros_distintos': 14, 'porcentaje_price_0': 0.0}, {'año': 2014.0, 'registros_distintos': 12, 'porcentaje_price_0': 0.0}, {'año': 2015.0, 'registros_distintos': 24, 'porcentaje_price_0': 0.0}, {'año': 2016.0, 'registros_distintos': 7, 'porcentaje_price_0': 14.29}, {'año': 2017.0, 'registros_distintos': 37, 'porcentaje_price_0': 2.7}]\n"
     ]
    }
   ],
   "source": [
    "# Convierte el DataFrame en un diccionario clave-valor\n",
    "grouped_dict = grouped_data.reset_index().to_dict(orient='records')\n",
    "\n",
    "# Imprime el diccionario\n",
    "print(grouped_dict)"
   ]
  },
  {
   "cell_type": "markdown",
   "metadata": {},
   "source": [
    "# Transformación para la función 6"
   ]
  },
  {
   "cell_type": "markdown",
   "metadata": {},
   "source": [
    "def sentiment_analysis( año : int ): Según el año de lanzamiento, se devuelve una lista con la cantidad de registros de reseñas de usuarios que se encuentren categorizados con un análisis de sentimiento.\n",
    "\n",
    "                    Ejemplo de retorno: {Negative = 182, Neutral = 120, Positive = 278}"
   ]
  },
  {
   "cell_type": "markdown",
   "metadata": {},
   "source": [
    "En un nuevo DF voy a quedarme con columna 'año' de g, y con columna 'review' de reviews "
   ]
  },
  {
   "cell_type": "code",
   "execution_count": 59,
   "metadata": {},
   "outputs": [],
   "source": [
    "g.release_date = pd.to_datetime(g.release_date, errors='coerce')\n",
    "g['año'] = g['release_date'].dt.year"
   ]
  },
  {
   "cell_type": "code",
   "execution_count": 60,
   "metadata": {},
   "outputs": [],
   "source": [
    "g_año_item = g[['año', 'item_id']]"
   ]
  },
  {
   "cell_type": "code",
   "execution_count": 61,
   "metadata": {},
   "outputs": [],
   "source": [
    "reviews_review_item = reviews[['review', 'item_id']]"
   ]
  },
  {
   "cell_type": "code",
   "execution_count": 62,
   "metadata": {},
   "outputs": [],
   "source": [
    "merged_6 = g_año_item.merge(reviews_review_item, how='inner', on='item_id')\n",
    "merged_6 = merged_6[['año', 'review']]"
   ]
  },
  {
   "cell_type": "code",
   "execution_count": 63,
   "metadata": {},
   "outputs": [],
   "source": [
    "# Aplico one-hot encoding a la columna 'review'\n",
    "dummies_review = pd.get_dummies(merged_6['review'], prefix='review')\n",
    "\n",
    "# Concateno el DataFrame original con el DataFrame de reviews codificadas\n",
    "dummies_6 = pd.concat([merged_6, dummies_review], axis=1)"
   ]
  },
  {
   "cell_type": "markdown",
   "metadata": {},
   "source": [
    "me quedo solo con las columnas que voy a necesitar"
   ]
  },
  {
   "cell_type": "code",
   "execution_count": 64,
   "metadata": {},
   "outputs": [],
   "source": [
    "dummies_6 = dummies_6[['año','review_0','review_1','review_2']]"
   ]
  },
  {
   "cell_type": "code",
   "execution_count": 65,
   "metadata": {},
   "outputs": [],
   "source": [
    "dummies_agrupado = dummies_6.groupby('año', as_index=False).sum()"
   ]
  },
  {
   "cell_type": "markdown",
   "metadata": {},
   "source": [
    "### Exportación del DF dummies_agrupado, guardado como 6sentiment_analysis.csv, que usaremos para la consulta de la función sentiment_analysis"
   ]
  },
  {
   "cell_type": "code",
   "execution_count": 68,
   "metadata": {},
   "outputs": [],
   "source": [
    "dummies_agrupado.to_csv(r'csv_funciones\\6sentiment_analysis.csv', index=False)"
   ]
  },
  {
   "cell_type": "code",
   "execution_count": 155,
   "metadata": {},
   "outputs": [],
   "source": [
    "dummies_agrupado = pd.read_csv(r'csv_funciones\\6sentiment_analysis.csv')"
   ]
  },
  {
   "cell_type": "code",
   "execution_count": 69,
   "metadata": {},
   "outputs": [
    {
     "data": {
      "text/html": [
       "<div>\n",
       "<style scoped>\n",
       "    .dataframe tbody tr th:only-of-type {\n",
       "        vertical-align: middle;\n",
       "    }\n",
       "\n",
       "    .dataframe tbody tr th {\n",
       "        vertical-align: top;\n",
       "    }\n",
       "\n",
       "    .dataframe thead th {\n",
       "        text-align: right;\n",
       "    }\n",
       "</style>\n",
       "<table border=\"1\" class=\"dataframe\">\n",
       "  <thead>\n",
       "    <tr style=\"text-align: right;\">\n",
       "      <th></th>\n",
       "      <th>año</th>\n",
       "      <th>review_0</th>\n",
       "      <th>review_1</th>\n",
       "      <th>review_2</th>\n",
       "    </tr>\n",
       "  </thead>\n",
       "  <tbody>\n",
       "    <tr>\n",
       "      <th>0</th>\n",
       "      <td>1989.0</td>\n",
       "      <td>0</td>\n",
       "      <td>0</td>\n",
       "      <td>1</td>\n",
       "    </tr>\n",
       "    <tr>\n",
       "      <th>1</th>\n",
       "      <td>1990.0</td>\n",
       "      <td>0</td>\n",
       "      <td>0</td>\n",
       "      <td>5</td>\n",
       "    </tr>\n",
       "    <tr>\n",
       "      <th>2</th>\n",
       "      <td>1991.0</td>\n",
       "      <td>0</td>\n",
       "      <td>0</td>\n",
       "      <td>1</td>\n",
       "    </tr>\n",
       "    <tr>\n",
       "      <th>3</th>\n",
       "      <td>1992.0</td>\n",
       "      <td>0</td>\n",
       "      <td>1</td>\n",
       "      <td>2</td>\n",
       "    </tr>\n",
       "    <tr>\n",
       "      <th>4</th>\n",
       "      <td>1993.0</td>\n",
       "      <td>0</td>\n",
       "      <td>2</td>\n",
       "      <td>3</td>\n",
       "    </tr>\n",
       "    <tr>\n",
       "      <th>5</th>\n",
       "      <td>1994.0</td>\n",
       "      <td>0</td>\n",
       "      <td>5</td>\n",
       "      <td>10</td>\n",
       "    </tr>\n",
       "    <tr>\n",
       "      <th>6</th>\n",
       "      <td>1995.0</td>\n",
       "      <td>1</td>\n",
       "      <td>2</td>\n",
       "      <td>13</td>\n",
       "    </tr>\n",
       "    <tr>\n",
       "      <th>7</th>\n",
       "      <td>1996.0</td>\n",
       "      <td>0</td>\n",
       "      <td>1</td>\n",
       "      <td>7</td>\n",
       "    </tr>\n",
       "    <tr>\n",
       "      <th>8</th>\n",
       "      <td>1997.0</td>\n",
       "      <td>4</td>\n",
       "      <td>6</td>\n",
       "      <td>38</td>\n",
       "    </tr>\n",
       "    <tr>\n",
       "      <th>9</th>\n",
       "      <td>1998.0</td>\n",
       "      <td>4</td>\n",
       "      <td>9</td>\n",
       "      <td>83</td>\n",
       "    </tr>\n",
       "    <tr>\n",
       "      <th>10</th>\n",
       "      <td>1999.0</td>\n",
       "      <td>7</td>\n",
       "      <td>6</td>\n",
       "      <td>60</td>\n",
       "    </tr>\n",
       "    <tr>\n",
       "      <th>11</th>\n",
       "      <td>2000.0</td>\n",
       "      <td>4</td>\n",
       "      <td>13</td>\n",
       "      <td>80</td>\n",
       "    </tr>\n",
       "    <tr>\n",
       "      <th>12</th>\n",
       "      <td>2001.0</td>\n",
       "      <td>4</td>\n",
       "      <td>7</td>\n",
       "      <td>23</td>\n",
       "    </tr>\n",
       "    <tr>\n",
       "      <th>13</th>\n",
       "      <td>2002.0</td>\n",
       "      <td>4</td>\n",
       "      <td>6</td>\n",
       "      <td>35</td>\n",
       "    </tr>\n",
       "    <tr>\n",
       "      <th>14</th>\n",
       "      <td>2003.0</td>\n",
       "      <td>8</td>\n",
       "      <td>36</td>\n",
       "      <td>173</td>\n",
       "    </tr>\n",
       "    <tr>\n",
       "      <th>15</th>\n",
       "      <td>2004.0</td>\n",
       "      <td>13</td>\n",
       "      <td>45</td>\n",
       "      <td>492</td>\n",
       "    </tr>\n",
       "    <tr>\n",
       "      <th>16</th>\n",
       "      <td>2005.0</td>\n",
       "      <td>11</td>\n",
       "      <td>25</td>\n",
       "      <td>212</td>\n",
       "    </tr>\n",
       "    <tr>\n",
       "      <th>17</th>\n",
       "      <td>2006.0</td>\n",
       "      <td>84</td>\n",
       "      <td>162</td>\n",
       "      <td>1816</td>\n",
       "    </tr>\n",
       "    <tr>\n",
       "      <th>18</th>\n",
       "      <td>2007.0</td>\n",
       "      <td>106</td>\n",
       "      <td>244</td>\n",
       "      <td>3811</td>\n",
       "    </tr>\n",
       "    <tr>\n",
       "      <th>19</th>\n",
       "      <td>2008.0</td>\n",
       "      <td>25</td>\n",
       "      <td>33</td>\n",
       "      <td>346</td>\n",
       "    </tr>\n",
       "    <tr>\n",
       "      <th>20</th>\n",
       "      <td>2009.0</td>\n",
       "      <td>80</td>\n",
       "      <td>166</td>\n",
       "      <td>1720</td>\n",
       "    </tr>\n",
       "    <tr>\n",
       "      <th>21</th>\n",
       "      <td>2010.0</td>\n",
       "      <td>83</td>\n",
       "      <td>151</td>\n",
       "      <td>1657</td>\n",
       "    </tr>\n",
       "    <tr>\n",
       "      <th>22</th>\n",
       "      <td>2011.0</td>\n",
       "      <td>132</td>\n",
       "      <td>256</td>\n",
       "      <td>2865</td>\n",
       "    </tr>\n",
       "    <tr>\n",
       "      <th>23</th>\n",
       "      <td>2012.0</td>\n",
       "      <td>383</td>\n",
       "      <td>802</td>\n",
       "      <td>7736</td>\n",
       "    </tr>\n",
       "    <tr>\n",
       "      <th>24</th>\n",
       "      <td>2013.0</td>\n",
       "      <td>357</td>\n",
       "      <td>773</td>\n",
       "      <td>6145</td>\n",
       "    </tr>\n",
       "    <tr>\n",
       "      <th>25</th>\n",
       "      <td>2014.0</td>\n",
       "      <td>367</td>\n",
       "      <td>698</td>\n",
       "      <td>5158</td>\n",
       "    </tr>\n",
       "    <tr>\n",
       "      <th>26</th>\n",
       "      <td>2015.0</td>\n",
       "      <td>397</td>\n",
       "      <td>690</td>\n",
       "      <td>5106</td>\n",
       "    </tr>\n",
       "    <tr>\n",
       "      <th>27</th>\n",
       "      <td>2016.0</td>\n",
       "      <td>215</td>\n",
       "      <td>339</td>\n",
       "      <td>2375</td>\n",
       "    </tr>\n",
       "    <tr>\n",
       "      <th>28</th>\n",
       "      <td>2017.0</td>\n",
       "      <td>119</td>\n",
       "      <td>219</td>\n",
       "      <td>1754</td>\n",
       "    </tr>\n",
       "  </tbody>\n",
       "</table>\n",
       "</div>"
      ],
      "text/plain": [
       "       año  review_0  review_1  review_2\n",
       "0   1989.0         0         0         1\n",
       "1   1990.0         0         0         5\n",
       "2   1991.0         0         0         1\n",
       "3   1992.0         0         1         2\n",
       "4   1993.0         0         2         3\n",
       "5   1994.0         0         5        10\n",
       "6   1995.0         1         2        13\n",
       "7   1996.0         0         1         7\n",
       "8   1997.0         4         6        38\n",
       "9   1998.0         4         9        83\n",
       "10  1999.0         7         6        60\n",
       "11  2000.0         4        13        80\n",
       "12  2001.0         4         7        23\n",
       "13  2002.0         4         6        35\n",
       "14  2003.0         8        36       173\n",
       "15  2004.0        13        45       492\n",
       "16  2005.0        11        25       212\n",
       "17  2006.0        84       162      1816\n",
       "18  2007.0       106       244      3811\n",
       "19  2008.0        25        33       346\n",
       "20  2009.0        80       166      1720\n",
       "21  2010.0        83       151      1657\n",
       "22  2011.0       132       256      2865\n",
       "23  2012.0       383       802      7736\n",
       "24  2013.0       357       773      6145\n",
       "25  2014.0       367       698      5158\n",
       "26  2015.0       397       690      5106\n",
       "27  2016.0       215       339      2375\n",
       "28  2017.0       119       219      1754"
      ]
     },
     "execution_count": 69,
     "metadata": {},
     "output_type": "execute_result"
    }
   ],
   "source": [
    "dummies_agrupado"
   ]
  },
  {
   "cell_type": "markdown",
   "metadata": {},
   "source": [
    "Prueba de código para la función"
   ]
  },
  {
   "cell_type": "code",
   "execution_count": 70,
   "metadata": {},
   "outputs": [],
   "source": [
    "año = 2017"
   ]
  },
  {
   "cell_type": "code",
   "execution_count": 71,
   "metadata": {},
   "outputs": [],
   "source": [
    "negativo = dummies_agrupado[dummies_agrupado['año'] == año].iloc[0][1]\n",
    "neutral = dummies_agrupado[dummies_agrupado['año'] == año].iloc[0][2]\n",
    "positivo = dummies_agrupado[dummies_agrupado['año'] == año].iloc[0][3]"
   ]
  },
  {
   "cell_type": "code",
   "execution_count": 72,
   "metadata": {},
   "outputs": [],
   "source": [
    "dicc_sentimiento = {'negativo': negativo, 'neutral': neutral, 'positivo': positivo}"
   ]
  },
  {
   "cell_type": "code",
   "execution_count": 73,
   "metadata": {},
   "outputs": [
    {
     "data": {
      "text/plain": [
       "{'negativo': 119.0, 'neutral': 219.0, 'positivo': 1754.0}"
      ]
     },
     "execution_count": 73,
     "metadata": {},
     "output_type": "execute_result"
    }
   ],
   "source": [
    "dicc_sentimiento"
   ]
  },
  {
   "cell_type": "markdown",
   "metadata": {},
   "source": [
    "# Transformación para la función 7"
   ]
  },
  {
   "cell_type": "markdown",
   "metadata": {},
   "source": [
    "def recomendacion_juego( id de producto ): Ingresando el id de producto, deberíamos recibir una lista con 5 juegos recomendados similares al ingresado."
   ]
  },
  {
   "cell_type": "markdown",
   "metadata": {},
   "source": [
    "### Obtengo un DF con la info relevante de cada juego de games y le agrego un conteo de la columna recommend. "
   ]
  },
  {
   "cell_type": "code",
   "execution_count": 74,
   "metadata": {},
   "outputs": [
    {
     "name": "stdout",
     "output_type": "stream",
     "text": [
      "<class 'pandas.core.frame.DataFrame'>\n",
      "RangeIndex: 22530 entries, 0 to 22529\n",
      "Data columns (total 56 columns):\n",
      " #   Column                            Non-Null Count  Dtype  \n",
      "---  ------                            --------------  -----  \n",
      " 0   title                             22530 non-null  object \n",
      " 1   release_date                      22530 non-null  object \n",
      " 2   price                             22530 non-null  float64\n",
      " 3   item_id                           22530 non-null  int64  \n",
      " 4   developer                         22530 non-null  object \n",
      " 5   genres.Action                     22530 non-null  int64  \n",
      " 6   genres.Casual                     22530 non-null  int64  \n",
      " 7   genres.Indie                      22530 non-null  int64  \n",
      " 8   genres.Simulation                 22530 non-null  int64  \n",
      " 9   genres.Strategy                   22530 non-null  int64  \n",
      " 10  genres.Free to Play               22530 non-null  int64  \n",
      " 11  genres.RPG                        22530 non-null  int64  \n",
      " 12  genres.Sports                     22530 non-null  int64  \n",
      " 13  genres.Adventure                  22530 non-null  int64  \n",
      " 14  genres.Racing                     22530 non-null  int64  \n",
      " 15  genres.Early Access               22530 non-null  int64  \n",
      " 16  genres.Massively Multiplayer      22530 non-null  int64  \n",
      " 17  genres.Animation &amp; Modeling   22530 non-null  int64  \n",
      " 18  genres.Web Publishing             22530 non-null  int64  \n",
      " 19  genres.Education                  22530 non-null  int64  \n",
      " 20  genres.Software Training          22530 non-null  int64  \n",
      " 21  genres.Utilities                  22530 non-null  int64  \n",
      " 22  genres.Design &amp; Illustration  22530 non-null  int64  \n",
      " 23  genres.Audio Production           22530 non-null  int64  \n",
      " 24  genres.Video Production           22530 non-null  int64  \n",
      " 25  genres.Photo Editing              22530 non-null  int64  \n",
      " 26  specs.Single-player               22530 non-null  int64  \n",
      " 27  specs.Multi-player                22530 non-null  int64  \n",
      " 28  specs.Online Multi-Player         22530 non-null  int64  \n",
      " 29  specs.Cross-Platform Multiplayer  22530 non-null  int64  \n",
      " 30  specs.Steam Achievements          22530 non-null  int64  \n",
      " 31  specs.Steam Trading Cards         22530 non-null  int64  \n",
      " 32  specs.In-App Purchases            22530 non-null  int64  \n",
      " 33  specs.Stats                       22530 non-null  int64  \n",
      " 34  specs.Downloadable Content        22530 non-null  int64  \n",
      " 35  specs.Full controller support     22530 non-null  int64  \n",
      " 36  specs.Steam Cloud                 22530 non-null  int64  \n",
      " 37  specs.Steam Leaderboards          22530 non-null  int64  \n",
      " 38  specs.Partial Controller Support  22530 non-null  int64  \n",
      " 39  specs.Local Co-op                 22530 non-null  int64  \n",
      " 40  specs.Shared/Split Screen         22530 non-null  int64  \n",
      " 41  specs.Valve Anti-Cheat enabled    22530 non-null  int64  \n",
      " 42  specs.Co-op                       22530 non-null  int64  \n",
      " 43  specs.Captions available          22530 non-null  int64  \n",
      " 44  specs.Steam Workshop              22530 non-null  int64  \n",
      " 45  specs.Includes level editor       22530 non-null  int64  \n",
      " 46  specs.Mods                        22530 non-null  int64  \n",
      " 47  specs.MMO                         22530 non-null  int64  \n",
      " 48  specs.Online Co-op                22530 non-null  int64  \n",
      " 49  specs.Local Multi-Player          22530 non-null  int64  \n",
      " 50  specs.Includes Source SDK         22530 non-null  int64  \n",
      " 51  specs.Commentary available        22530 non-null  int64  \n",
      " 52  specs.Steam Turn Notifications    22530 non-null  int64  \n",
      " 53  specs.SteamVR Collectibles        22530 non-null  int64  \n",
      " 54  specs.Game demo                   22530 non-null  int64  \n",
      " 55  specs.Mods (require HL2)          22530 non-null  int64  \n",
      "dtypes: float64(1), int64(52), object(3)\n",
      "memory usage: 9.6+ MB\n"
     ]
    }
   ],
   "source": [
    "games.info()"
   ]
  },
  {
   "cell_type": "markdown",
   "metadata": {},
   "source": [
    "Primero voy a hacer mi df games_7 que tendrá las variables importantes de games"
   ]
  },
  {
   "cell_type": "code",
   "execution_count": 75,
   "metadata": {},
   "outputs": [],
   "source": [
    "generos_df = ['genres.Action', 'genres.Casual', 'genres.Indie', 'genres.Simulation', 'genres.Strategy', 'genres.Free to Play', 'genres.RPG',\n",
    "'genres.Sports', 'genres.Adventure', 'genres.Racing', 'genres.Early Access', 'genres.Massively Multiplayer', 'genres.Animation &amp; Modeling',\n",
    "'genres.Web Publishing','genres.Education', 'genres.Software Training', 'genres.Utilities', 'genres.Design &amp; Illustration',\n",
    "'genres.Audio Production', 'genres.Video Production', 'genres.Photo Editing']"
   ]
  },
  {
   "cell_type": "code",
   "execution_count": 76,
   "metadata": {},
   "outputs": [],
   "source": [
    "especificaciones = ['Single-player', 'Multi-player', 'Online Multi-Player', 'Cross-Platform Multiplayer', 'Steam Achievements',\n",
    " 'Steam Trading Cards', 'In-App Purchases', 'Stats', 'Downloadable Content', 'Full controller support', 'Steam Cloud', 'Steam Leaderboards',\n",
    "  'Partial Controller Support', 'Local Co-op', 'Shared/Split Screen', 'Valve Anti-Cheat enabled', 'Co-op', 'Captions available', 'Steam Workshop',\n",
    "   'Includes level editor', 'Mods', 'MMO', 'Online Co-op', 'Local Multi-Player', 'Includes Source SDK', 'Commentary available',\n",
    "    'Steam Turn Notifications', 'SteamVR Collectibles', 'Game demo', 'Mods (require HL2)']"
   ]
  },
  {
   "cell_type": "code",
   "execution_count": null,
   "metadata": {},
   "outputs": [],
   "source": [
    "stop\n",
    "especificaciones_df = []\n",
    "for e in especificaciones:\n",
    "    e = str('specs.'+ e)\n",
    "    especificaciones_df.append(e)\n"
   ]
  },
  {
   "cell_type": "code",
   "execution_count": 78,
   "metadata": {},
   "outputs": [],
   "source": [
    "especificaciones_df = ['specs.Single-player', 'specs.Multi-player', 'specs.Online Multi-Player', 'specs.Cross-Platform Multiplayer',\n",
    " 'specs.Steam Achievements', 'specs.Steam Trading Cards', 'specs.In-App Purchases', 'specs.Stats', 'specs.Downloadable Content',\n",
    "  'specs.Full controller support', 'specs.Steam Cloud', 'specs.Steam Leaderboards', 'specs.Partial Controller Support', 'specs.Local Co-op',\n",
    "   'specs.Shared/Split Screen', 'specs.Valve Anti-Cheat enabled', 'specs.Co-op', 'specs.Captions available', 'specs.Steam Workshop',\n",
    "    'specs.Includes level editor', 'specs.Mods', 'specs.MMO', 'specs.Online Co-op', 'specs.Local Multi-Player', 'specs.Includes Source SDK',\n",
    "     'specs.Commentary available', 'specs.Steam Turn Notifications', 'specs.SteamVR Collectibles', 'specs.Game demo', 'specs.Mods (require HL2)']"
   ]
  },
  {
   "cell_type": "code",
   "execution_count": 79,
   "metadata": {},
   "outputs": [],
   "source": [
    "columnas_df = ['item_id', 'price', 'release_date']"
   ]
  },
  {
   "cell_type": "code",
   "execution_count": 80,
   "metadata": {},
   "outputs": [],
   "source": [
    "todas_las_columnas = columnas_df + generos_df + especificaciones_df"
   ]
  },
  {
   "cell_type": "code",
   "execution_count": 81,
   "metadata": {},
   "outputs": [],
   "source": [
    "games_7 = games[todas_las_columnas]"
   ]
  },
  {
   "cell_type": "code",
   "execution_count": 82,
   "metadata": {},
   "outputs": [
    {
     "name": "stderr",
     "output_type": "stream",
     "text": [
      "C:\\Users\\Usuario\\AppData\\Local\\Temp\\ipykernel_2844\\3955163516.py:1: SettingWithCopyWarning: \n",
      "A value is trying to be set on a copy of a slice from a DataFrame.\n",
      "Try using .loc[row_indexer,col_indexer] = value instead\n",
      "\n",
      "See the caveats in the documentation: https://pandas.pydata.org/pandas-docs/stable/user_guide/indexing.html#returning-a-view-versus-a-copy\n",
      "  games_7['release_date'] = pd.to_datetime(games_7['release_date'], errors='coerce')\n"
     ]
    }
   ],
   "source": [
    "games_7['release_date'] = pd.to_datetime(games_7['release_date'], errors='coerce')"
   ]
  },
  {
   "cell_type": "code",
   "execution_count": 83,
   "metadata": {},
   "outputs": [
    {
     "name": "stderr",
     "output_type": "stream",
     "text": [
      "C:\\Users\\Usuario\\AppData\\Local\\Temp\\ipykernel_2844\\4228231512.py:1: SettingWithCopyWarning: \n",
      "A value is trying to be set on a copy of a slice from a DataFrame.\n",
      "Try using .loc[row_indexer,col_indexer] = value instead\n",
      "\n",
      "See the caveats in the documentation: https://pandas.pydata.org/pandas-docs/stable/user_guide/indexing.html#returning-a-view-versus-a-copy\n",
      "  games_7['release_date'] = games_7['release_date'].dt.year\n"
     ]
    }
   ],
   "source": [
    "games_7['release_date'] = games_7['release_date'].dt.year"
   ]
  },
  {
   "cell_type": "code",
   "execution_count": 84,
   "metadata": {},
   "outputs": [
    {
     "name": "stderr",
     "output_type": "stream",
     "text": [
      "C:\\Users\\Usuario\\AppData\\Local\\Temp\\ipykernel_2844\\4054958596.py:1: SettingWithCopyWarning: \n",
      "A value is trying to be set on a copy of a slice from a DataFrame\n",
      "\n",
      "See the caveats in the documentation: https://pandas.pydata.org/pandas-docs/stable/user_guide/indexing.html#returning-a-view-versus-a-copy\n",
      "  games_7.rename(columns={'release_date': 'año'}, inplace=True)\n"
     ]
    }
   ],
   "source": [
    "games_7.rename(columns={'release_date': 'año'}, inplace=True)"
   ]
  },
  {
   "cell_type": "code",
   "execution_count": 85,
   "metadata": {},
   "outputs": [
    {
     "data": {
      "text/plain": [
       "(22530, 54)"
      ]
     },
     "execution_count": 85,
     "metadata": {},
     "output_type": "execute_result"
    }
   ],
   "source": [
    "games_7.shape"
   ]
  },
  {
   "cell_type": "code",
   "execution_count": 86,
   "metadata": {},
   "outputs": [
    {
     "data": {
      "text/html": [
       "<div>\n",
       "<style scoped>\n",
       "    .dataframe tbody tr th:only-of-type {\n",
       "        vertical-align: middle;\n",
       "    }\n",
       "\n",
       "    .dataframe tbody tr th {\n",
       "        vertical-align: top;\n",
       "    }\n",
       "\n",
       "    .dataframe thead th {\n",
       "        text-align: right;\n",
       "    }\n",
       "</style>\n",
       "<table border=\"1\" class=\"dataframe\">\n",
       "  <thead>\n",
       "    <tr style=\"text-align: right;\">\n",
       "      <th></th>\n",
       "      <th>item_id</th>\n",
       "      <th>price</th>\n",
       "      <th>año</th>\n",
       "      <th>genres.Action</th>\n",
       "      <th>genres.Casual</th>\n",
       "      <th>genres.Indie</th>\n",
       "      <th>genres.Simulation</th>\n",
       "      <th>genres.Strategy</th>\n",
       "      <th>genres.Free to Play</th>\n",
       "      <th>genres.RPG</th>\n",
       "      <th>...</th>\n",
       "      <th>specs.Mods</th>\n",
       "      <th>specs.MMO</th>\n",
       "      <th>specs.Online Co-op</th>\n",
       "      <th>specs.Local Multi-Player</th>\n",
       "      <th>specs.Includes Source SDK</th>\n",
       "      <th>specs.Commentary available</th>\n",
       "      <th>specs.Steam Turn Notifications</th>\n",
       "      <th>specs.SteamVR Collectibles</th>\n",
       "      <th>specs.Game demo</th>\n",
       "      <th>specs.Mods (require HL2)</th>\n",
       "    </tr>\n",
       "  </thead>\n",
       "  <tbody>\n",
       "    <tr>\n",
       "      <th>0</th>\n",
       "      <td>761140</td>\n",
       "      <td>4.99</td>\n",
       "      <td>2018.0</td>\n",
       "      <td>1</td>\n",
       "      <td>1</td>\n",
       "      <td>1</td>\n",
       "      <td>1</td>\n",
       "      <td>1</td>\n",
       "      <td>0</td>\n",
       "      <td>0</td>\n",
       "      <td>...</td>\n",
       "      <td>0</td>\n",
       "      <td>0</td>\n",
       "      <td>0</td>\n",
       "      <td>0</td>\n",
       "      <td>0</td>\n",
       "      <td>0</td>\n",
       "      <td>0</td>\n",
       "      <td>0</td>\n",
       "      <td>0</td>\n",
       "      <td>0</td>\n",
       "    </tr>\n",
       "    <tr>\n",
       "      <th>1</th>\n",
       "      <td>643980</td>\n",
       "      <td>0.00</td>\n",
       "      <td>2018.0</td>\n",
       "      <td>0</td>\n",
       "      <td>0</td>\n",
       "      <td>1</td>\n",
       "      <td>0</td>\n",
       "      <td>1</td>\n",
       "      <td>1</td>\n",
       "      <td>1</td>\n",
       "      <td>...</td>\n",
       "      <td>0</td>\n",
       "      <td>0</td>\n",
       "      <td>0</td>\n",
       "      <td>0</td>\n",
       "      <td>0</td>\n",
       "      <td>0</td>\n",
       "      <td>0</td>\n",
       "      <td>0</td>\n",
       "      <td>0</td>\n",
       "      <td>0</td>\n",
       "    </tr>\n",
       "  </tbody>\n",
       "</table>\n",
       "<p>2 rows × 54 columns</p>\n",
       "</div>"
      ],
      "text/plain": [
       "   item_id  price     año  genres.Action  genres.Casual  genres.Indie  \\\n",
       "0   761140   4.99  2018.0              1              1             1   \n",
       "1   643980   0.00  2018.0              0              0             1   \n",
       "\n",
       "   genres.Simulation  genres.Strategy  genres.Free to Play  genres.RPG  ...  \\\n",
       "0                  1                1                    0           0  ...   \n",
       "1                  0                1                    1           1  ...   \n",
       "\n",
       "   specs.Mods  specs.MMO  specs.Online Co-op  specs.Local Multi-Player  \\\n",
       "0           0          0                   0                         0   \n",
       "1           0          0                   0                         0   \n",
       "\n",
       "   specs.Includes Source SDK  specs.Commentary available  \\\n",
       "0                          0                           0   \n",
       "1                          0                           0   \n",
       "\n",
       "   specs.Steam Turn Notifications  specs.SteamVR Collectibles  \\\n",
       "0                               0                           0   \n",
       "1                               0                           0   \n",
       "\n",
       "   specs.Game demo  specs.Mods (require HL2)  \n",
       "0                0                         0  \n",
       "1                0                         0  \n",
       "\n",
       "[2 rows x 54 columns]"
      ]
     },
     "execution_count": 86,
     "metadata": {},
     "output_type": "execute_result"
    }
   ],
   "source": [
    "games_7.head(2)"
   ]
  },
  {
   "cell_type": "markdown",
   "metadata": {},
   "source": [
    "# Ahora voy a sumar las recommend positivas de reviews y las recommend totales, agrupado por item_id"
   ]
  },
  {
   "cell_type": "code",
   "execution_count": 87,
   "metadata": {},
   "outputs": [],
   "source": [
    "reviews_7 = reviews[['item_id', 'recommend']]"
   ]
  },
  {
   "cell_type": "code",
   "execution_count": 88,
   "metadata": {},
   "outputs": [
    {
     "name": "stderr",
     "output_type": "stream",
     "text": [
      "C:\\Users\\Usuario\\AppData\\Local\\Temp\\ipykernel_2844\\3786402450.py:1: SettingWithCopyWarning: \n",
      "A value is trying to be set on a copy of a slice from a DataFrame.\n",
      "Try using .loc[row_indexer,col_indexer] = value instead\n",
      "\n",
      "See the caveats in the documentation: https://pandas.pydata.org/pandas-docs/stable/user_guide/indexing.html#returning-a-view-versus-a-copy\n",
      "  reviews_7['contador'] = 1\n"
     ]
    }
   ],
   "source": [
    "reviews_7['contador'] = 1"
   ]
  },
  {
   "cell_type": "code",
   "execution_count": 89,
   "metadata": {},
   "outputs": [],
   "source": [
    "reviews_7 = reviews_7.groupby(['item_id'], as_index=False).sum()"
   ]
  },
  {
   "cell_type": "code",
   "execution_count": 90,
   "metadata": {},
   "outputs": [
    {
     "data": {
      "text/plain": [
       "(3682, 3)"
      ]
     },
     "execution_count": 90,
     "metadata": {},
     "output_type": "execute_result"
    }
   ],
   "source": [
    "reviews_7.shape"
   ]
  },
  {
   "cell_type": "code",
   "execution_count": 91,
   "metadata": {},
   "outputs": [
    {
     "data": {
      "text/html": [
       "<div>\n",
       "<style scoped>\n",
       "    .dataframe tbody tr th:only-of-type {\n",
       "        vertical-align: middle;\n",
       "    }\n",
       "\n",
       "    .dataframe tbody tr th {\n",
       "        vertical-align: top;\n",
       "    }\n",
       "\n",
       "    .dataframe thead th {\n",
       "        text-align: right;\n",
       "    }\n",
       "</style>\n",
       "<table border=\"1\" class=\"dataframe\">\n",
       "  <thead>\n",
       "    <tr style=\"text-align: right;\">\n",
       "      <th></th>\n",
       "      <th>item_id</th>\n",
       "      <th>recommend</th>\n",
       "      <th>contador</th>\n",
       "    </tr>\n",
       "  </thead>\n",
       "  <tbody>\n",
       "    <tr>\n",
       "      <th>0</th>\n",
       "      <td>10</td>\n",
       "      <td>56</td>\n",
       "      <td>57</td>\n",
       "    </tr>\n",
       "    <tr>\n",
       "      <th>1</th>\n",
       "      <td>20</td>\n",
       "      <td>11</td>\n",
       "      <td>17</td>\n",
       "    </tr>\n",
       "  </tbody>\n",
       "</table>\n",
       "</div>"
      ],
      "text/plain": [
       "   item_id  recommend  contador\n",
       "0       10         56        57\n",
       "1       20         11        17"
      ]
     },
     "execution_count": 91,
     "metadata": {},
     "output_type": "execute_result"
    }
   ],
   "source": [
    "reviews_7.head(2)"
   ]
  },
  {
   "cell_type": "markdown",
   "metadata": {},
   "source": [
    "# Ahora voy a obtener el playtime_forever por item_id del df items"
   ]
  },
  {
   "cell_type": "code",
   "execution_count": 92,
   "metadata": {},
   "outputs": [],
   "source": [
    "items_7 = items[['item_id', 'playtime_forever']]"
   ]
  },
  {
   "cell_type": "code",
   "execution_count": 93,
   "metadata": {},
   "outputs": [],
   "source": [
    "items_7 = items_7.groupby(['item_id'], as_index=False).sum()"
   ]
  },
  {
   "cell_type": "code",
   "execution_count": 94,
   "metadata": {},
   "outputs": [
    {
     "data": {
      "text/plain": [
       "(10978, 2)"
      ]
     },
     "execution_count": 94,
     "metadata": {},
     "output_type": "execute_result"
    }
   ],
   "source": [
    "items_7.shape"
   ]
  },
  {
   "cell_type": "code",
   "execution_count": 95,
   "metadata": {},
   "outputs": [
    {
     "data": {
      "text/html": [
       "<div>\n",
       "<style scoped>\n",
       "    .dataframe tbody tr th:only-of-type {\n",
       "        vertical-align: middle;\n",
       "    }\n",
       "\n",
       "    .dataframe tbody tr th {\n",
       "        vertical-align: top;\n",
       "    }\n",
       "\n",
       "    .dataframe thead th {\n",
       "        text-align: right;\n",
       "    }\n",
       "</style>\n",
       "<table border=\"1\" class=\"dataframe\">\n",
       "  <thead>\n",
       "    <tr style=\"text-align: right;\">\n",
       "      <th></th>\n",
       "      <th>item_id</th>\n",
       "      <th>playtime_forever</th>\n",
       "    </tr>\n",
       "  </thead>\n",
       "  <tbody>\n",
       "    <tr>\n",
       "      <th>0</th>\n",
       "      <td>10</td>\n",
       "      <td>17386015</td>\n",
       "    </tr>\n",
       "    <tr>\n",
       "      <th>1</th>\n",
       "      <td>20</td>\n",
       "      <td>961702</td>\n",
       "    </tr>\n",
       "  </tbody>\n",
       "</table>\n",
       "</div>"
      ],
      "text/plain": [
       "   item_id  playtime_forever\n",
       "0       10          17386015\n",
       "1       20            961702"
      ]
     },
     "execution_count": 95,
     "metadata": {},
     "output_type": "execute_result"
    }
   ],
   "source": [
    "items_7.head(2)"
   ]
  },
  {
   "cell_type": "markdown",
   "metadata": {},
   "source": [
    "# Ahora voy a hacer merge entre games_7, items_7 y reviews_7"
   ]
  },
  {
   "cell_type": "code",
   "execution_count": 96,
   "metadata": {},
   "outputs": [],
   "source": [
    "merged_7 = reviews_7.merge(items_7, how='outer', on='item_id')"
   ]
  },
  {
   "cell_type": "code",
   "execution_count": 97,
   "metadata": {},
   "outputs": [],
   "source": [
    "merged_7 = merged_7.merge(games_7, how='outer', on='item_id')"
   ]
  },
  {
   "cell_type": "markdown",
   "metadata": {},
   "source": [
    "La columna recommend la convierto a porcentaje de recomendaciones positivas (de 0 a 1)"
   ]
  },
  {
   "cell_type": "code",
   "execution_count": 98,
   "metadata": {},
   "outputs": [],
   "source": [
    "merged_7['recommend'] = merged_7.recommend/merged_7.contador"
   ]
  },
  {
   "cell_type": "markdown",
   "metadata": {},
   "source": [
    "# Normalización de año, playtime_forever, price y contador"
   ]
  },
  {
   "cell_type": "code",
   "execution_count": 99,
   "metadata": {},
   "outputs": [],
   "source": [
    "df_7 = merged_7.copy() "
   ]
  },
  {
   "cell_type": "code",
   "execution_count": 100,
   "metadata": {},
   "outputs": [],
   "source": [
    "# Selecciono las características numéricas a normalizar\n",
    "numeric_features = ['año', 'playtime_forever', 'price', 'contador']\n",
    "# Creo un objeto MinMaxScaler\n",
    "scaler = MinMaxScaler()\n",
    "# Aplico la normalización a las características seleccionadas\n",
    "df_7[numeric_features] = scaler.fit_transform(df_7[numeric_features])"
   ]
  },
  {
   "cell_type": "code",
   "execution_count": null,
   "metadata": {},
   "outputs": [],
   "source": [
    "df_7.info()"
   ]
  },
  {
   "cell_type": "markdown",
   "metadata": {},
   "source": [
    "### Exportación del DF df_7, guardado como recomendacion_juego.csv, que usaremos para la consulta de la función recomendacion_juego"
   ]
  },
  {
   "cell_type": "code",
   "execution_count": 102,
   "metadata": {},
   "outputs": [],
   "source": [
    "df_7.to_csv(r'csv_funciones\\7recomendacion_juego.csv', index=False)"
   ]
  },
  {
   "cell_type": "markdown",
   "metadata": {},
   "source": [
    "Prueba de código para la función"
   ]
  },
  {
   "cell_type": "code",
   "execution_count": 188,
   "metadata": {},
   "outputs": [],
   "source": [
    "df_7 = pd.read_csv(r'csv_funciones\\7recomendacion_juego.csv')"
   ]
  },
  {
   "cell_type": "code",
   "execution_count": 103,
   "metadata": {},
   "outputs": [],
   "source": [
    "# Imputo los valores faltantes con 0\n",
    "imputer = SimpleImputer(strategy='constant', fill_value=0)\n",
    "df_7i = imputer.fit_transform(df_7.drop('item_id', axis=1))  # Elimino la columna 'item_id'"
   ]
  },
  {
   "cell_type": "code",
   "execution_count": 104,
   "metadata": {},
   "outputs": [],
   "source": [
    "# Convierto el array NumPy en un DataFrame de pandas\n",
    "df_7i = pd.DataFrame(df_7i, columns=df_7.columns[1:])  # Ignoro la columna 'item_id' de df_7 ya eliminada en df_7i"
   ]
  },
  {
   "cell_type": "code",
   "execution_count": 106,
   "metadata": {},
   "outputs": [
    {
     "name": "stderr",
     "output_type": "stream",
     "text": [
      "c:\\Users\\Usuario\\AppData\\Local\\Programs\\Python\\Python311\\Lib\\site-packages\\sklearn\\cluster\\_kmeans.py:1412: FutureWarning: The default value of `n_init` will change from 10 to 'auto' in 1.4. Set the value of `n_init` explicitly to suppress the warning\n",
      "  super()._check_params_vs_input(X, default_n_init=10)\n"
     ]
    }
   ],
   "source": [
    "# Creo una instancia de KMeans\n",
    "kmeans = KMeans(n_clusters=5, random_state=0)\n",
    "\n",
    "# Ajusto el modelo a los datos\n",
    "kmeans.fit(df_7i)\n",
    "\n",
    "# Obtengo las etiquetas de los clusters asignados a cada fila\n",
    "etiquetas_clusters = kmeans.labels_"
   ]
  },
  {
   "cell_type": "code",
   "execution_count": 107,
   "metadata": {},
   "outputs": [
    {
     "data": {
      "image/png": "[encoded data removed]",
      "text/plain": [
       "<Figure size 1000x600 with 2 Axes>"
      ]
     },
     "metadata": {},
     "output_type": "display_data"
    }
   ],
   "source": [
    "# Aplico PCA para reducir a dos dimensiones\n",
    "pca = PCA(n_components=2)\n",
    "df_2d = pca.fit_transform(df_7i)\n",
    "\n",
    "# Creo un gráfico de dispersión con colores por cluster\n",
    "plt.figure(figsize=(10, 6))\n",
    "plt.scatter(df_2d[:, 0], df_2d[:, 1], c=etiquetas_clusters, cmap='viridis')\n",
    "plt.title('Distribución de los Clusters')\n",
    "plt.xlabel('Componente Principal 1')\n",
    "plt.ylabel('Componente Principal 2')\n",
    "plt.colorbar(label='Cluster')\n",
    "plt.show()"
   ]
  },
  {
   "cell_type": "code",
   "execution_count": 108,
   "metadata": {},
   "outputs": [
    {
     "name": "stdout",
     "output_type": "stream",
     "text": [
      "Los 5 item_id más cercanos al item_id 20 son:\n",
      "2      30\n",
      "15    360\n",
      "0      10\n",
      "5      60\n",
      "3      40\n",
      "Name: item_id, dtype: int64\n"
     ]
    }
   ],
   "source": [
    "def encontrar_item_id_cercanos(item_id):\n",
    "    # Paso 1: Obtener el índice del item_id en el DataFrame original\n",
    "    indice_item_id = df_7[df_7['item_id'] == item_id].index[0]\n",
    "    \n",
    "    # Paso 2: Encontrar a qué cluster pertenece el item_id\n",
    "    cluster_item_id = etiquetas_clusters[indice_item_id]\n",
    "    \n",
    "    # Paso 3: Filtrar los índices de los item_id en el mismo cluster\n",
    "    indices_mismo_cluster = np.where(etiquetas_clusters == cluster_item_id)[0]\n",
    "    \n",
    "    # Paso 4: Calcular las distancias y obtener los índices de los 5 más cercanos\n",
    "    distancias = pairwise_distances(df_7i.iloc[indice_item_id].values.reshape(1, -1), df_7i.iloc[indices_mismo_cluster])\n",
    "    indices_cercanos = np.argsort(distancias)[0][1:6]\n",
    "    \n",
    "    # Paso 5: Obtener los item_id de los 5 más cercanos\n",
    "    item_id_cercanos = df_7.iloc[indices_mismo_cluster[indices_cercanos]]['item_id']\n",
    "    \n",
    "    return item_id_cercanos\n",
    "\n",
    "# Llamo a la función para encontrar los 5 item_id más cercanos al item_id de interés\n",
    "item_id_de_interes = 20 \n",
    "item_id_cercanos = encontrar_item_id_cercanos(item_id_de_interes)\n",
    "\n",
    "print(\"Los 5 item_id más cercanos al item_id\", item_id_de_interes, \"son:\")\n",
    "print(item_id_cercanos)"
   ]
  }
 ],
 "metadata": {
  "kernelspec": {
   "display_name": "Python 3",
   "language": "python",
   "name": "python3"
  },
  "language_info": {
   "codemirror_mode": {
    "name": "ipython",
    "version": 3
   },
   "file_extension": ".py",
   "mimetype": "text/x-python",
   "name": "python",
   "nbconvert_exporter": "python",
   "pygments_lexer": "ipython3",
   "version": "3.11.2"
  },
  "orig_nbformat": 4
 },
 "nbformat": 4,
 "nbformat_minor": 2
}
