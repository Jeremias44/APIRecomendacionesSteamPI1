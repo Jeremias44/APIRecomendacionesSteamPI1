{
 "cells": [
  {
   "cell_type": "code",
   "execution_count": 1,
   "metadata": {},
   "outputs": [],
   "source": [
    "import pandas as pd\n",
    "import numpy as np\n",
    "import json\n",
    "import ast"
   ]
  },
  {
   "cell_type": "markdown",
   "metadata": {},
   "source": [
    "# Extracción de datos items"
   ]
  },
  {
   "cell_type": "code",
   "execution_count": 2,
   "metadata": {},
   "outputs": [],
   "source": [
    "#rows = []\n",
    "\n",
    "#with open (r'json_originales\\australian_users_items.json', encoding='MacRoman') as f:\n",
    "#    for line in f.readlines():\n",
    "#        rows.append(ast.literal_eval(line))\n",
    "\n",
    "#items = pd.DataFrame(rows)\n",
    "\n",
    "# Demora 6m 22s"
   ]
  },
  {
   "cell_type": "code",
   "execution_count": 3,
   "metadata": {},
   "outputs": [],
   "source": [
    "items.to_csv(r'json_originales\\australian_users_items.csv')\n",
    "\n",
    "# Demora 2m 20s"
   ]
  },
  {
   "cell_type": "code",
   "execution_count": null,
   "metadata": {},
   "outputs": [],
   "source": [
    "items = pd.read_csv(r'json_originales\\australian_users_items.csv')"
   ]
  },
  {
   "cell_type": "markdown",
   "metadata": {},
   "source": [
    "# Desanidado"
   ]
  },
  {
   "cell_type": "code",
   "execution_count": 4,
   "metadata": {},
   "outputs": [],
   "source": [
    "# Creamos una nueva lista para almacenar los datos desanidados\n",
    "data_desanidada = []\n",
    "\n",
    "# Recorremos cada fila del DataFrame\n",
    "for index, row in items.iterrows():\n",
    "    user_id = row['user_id']\n",
    "    items_count = row['items_count']\n",
    "    user_url = row['user_url']\n",
    "    items = row['items']\n",
    "    \n",
    "    # Recorremos cada diccionario en la lista de reviews\n",
    "    for i in items:   \n",
    "        new_row = {\n",
    "        'user_id': user_id,\n",
    "        'items_count': items_count,\n",
    "        'user_url' : user_url,\n",
    "        'item_id': i.get('item_id', ''),\n",
    "        'item_name': i.get('item_name', ''),\n",
    "        'playtime_forever': i.get('playtime_forever', '')\n",
    "        }\n",
    "        \n",
    "        data_desanidada.append(new_row)\n",
    "\n",
    "# Creamos un nuevo DataFrame con los datos desanidados\n",
    "items_desanidado = pd.DataFrame(data_desanidada)\n",
    "\n",
    "# Ahora items_desanidado contiene las columnas user_id, items_count, user_url repetidas en los casos necesarios\n",
    "# junto con los datos desanidados de items\n",
    "\n",
    "# Demora 10m 2s"
   ]
  },
  {
   "cell_type": "code",
   "execution_count": 10,
   "metadata": {},
   "outputs": [],
   "source": [
    "items_desanidado['item_id'] = items_desanidado['item_id'].astype(int)"
   ]
  },
  {
   "cell_type": "markdown",
   "metadata": {},
   "source": [
    "# Exportación como csv del DataFrame imtes_desanidado"
   ]
  },
  {
   "cell_type": "code",
   "execution_count": 13,
   "metadata": {},
   "outputs": [],
   "source": [
    "items_desanidado.to_csv(r'csv_ETL\\items_desanidado.csv', index=False)\n",
    "# Demora 1m 55s"
   ]
  },
  {
   "cell_type": "code",
   "execution_count": 12,
   "metadata": {},
   "outputs": [
    {
     "data": {
      "text/plain": [
       "(5153209, 6)"
      ]
     },
     "execution_count": 12,
     "metadata": {},
     "output_type": "execute_result"
    }
   ],
   "source": [
    "items_desanidado.shape"
   ]
  },
  {
   "cell_type": "code",
   "execution_count": 9,
   "metadata": {},
   "outputs": [
    {
     "data": {
      "text/html": [
       "<div>\n",
       "<style scoped>\n",
       "    .dataframe tbody tr th:only-of-type {\n",
       "        vertical-align: middle;\n",
       "    }\n",
       "\n",
       "    .dataframe tbody tr th {\n",
       "        vertical-align: top;\n",
       "    }\n",
       "\n",
       "    .dataframe thead th {\n",
       "        text-align: right;\n",
       "    }\n",
       "</style>\n",
       "<table border=\"1\" class=\"dataframe\">\n",
       "  <thead>\n",
       "    <tr style=\"text-align: right;\">\n",
       "      <th></th>\n",
       "      <th>user_id</th>\n",
       "      <th>items_count</th>\n",
       "      <th>user_url</th>\n",
       "      <th>item_id</th>\n",
       "      <th>item_name</th>\n",
       "      <th>playtime_forever</th>\n",
       "    </tr>\n",
       "  </thead>\n",
       "  <tbody>\n",
       "    <tr>\n",
       "      <th>0</th>\n",
       "      <td>76561197970982479</td>\n",
       "      <td>277</td>\n",
       "      <td>http://steamcommunity.com/profiles/76561197970...</td>\n",
       "      <td>10</td>\n",
       "      <td>Counter-Strike</td>\n",
       "      <td>6</td>\n",
       "    </tr>\n",
       "    <tr>\n",
       "      <th>1</th>\n",
       "      <td>76561197970982479</td>\n",
       "      <td>277</td>\n",
       "      <td>http://steamcommunity.com/profiles/76561197970...</td>\n",
       "      <td>20</td>\n",
       "      <td>Team Fortress Classic</td>\n",
       "      <td>0</td>\n",
       "    </tr>\n",
       "    <tr>\n",
       "      <th>2</th>\n",
       "      <td>76561197970982479</td>\n",
       "      <td>277</td>\n",
       "      <td>http://steamcommunity.com/profiles/76561197970...</td>\n",
       "      <td>30</td>\n",
       "      <td>Day of Defeat</td>\n",
       "      <td>7</td>\n",
       "    </tr>\n",
       "    <tr>\n",
       "      <th>3</th>\n",
       "      <td>76561197970982479</td>\n",
       "      <td>277</td>\n",
       "      <td>http://steamcommunity.com/profiles/76561197970...</td>\n",
       "      <td>40</td>\n",
       "      <td>Deathmatch Classic</td>\n",
       "      <td>0</td>\n",
       "    </tr>\n",
       "    <tr>\n",
       "      <th>4</th>\n",
       "      <td>76561197970982479</td>\n",
       "      <td>277</td>\n",
       "      <td>http://steamcommunity.com/profiles/76561197970...</td>\n",
       "      <td>50</td>\n",
       "      <td>Half-Life: Opposing Force</td>\n",
       "      <td>0</td>\n",
       "    </tr>\n",
       "    <tr>\n",
       "      <th>...</th>\n",
       "      <td>...</td>\n",
       "      <td>...</td>\n",
       "      <td>...</td>\n",
       "      <td>...</td>\n",
       "      <td>...</td>\n",
       "      <td>...</td>\n",
       "    </tr>\n",
       "    <tr>\n",
       "      <th>5153204</th>\n",
       "      <td>76561198329548331</td>\n",
       "      <td>7</td>\n",
       "      <td>http://steamcommunity.com/profiles/76561198329...</td>\n",
       "      <td>346330</td>\n",
       "      <td>BrainBread 2</td>\n",
       "      <td>0</td>\n",
       "    </tr>\n",
       "    <tr>\n",
       "      <th>5153205</th>\n",
       "      <td>76561198329548331</td>\n",
       "      <td>7</td>\n",
       "      <td>http://steamcommunity.com/profiles/76561198329...</td>\n",
       "      <td>373330</td>\n",
       "      <td>All Is Dust</td>\n",
       "      <td>0</td>\n",
       "    </tr>\n",
       "    <tr>\n",
       "      <th>5153206</th>\n",
       "      <td>76561198329548331</td>\n",
       "      <td>7</td>\n",
       "      <td>http://steamcommunity.com/profiles/76561198329...</td>\n",
       "      <td>388490</td>\n",
       "      <td>One Way To Die: Steam Edition</td>\n",
       "      <td>3</td>\n",
       "    </tr>\n",
       "    <tr>\n",
       "      <th>5153207</th>\n",
       "      <td>76561198329548331</td>\n",
       "      <td>7</td>\n",
       "      <td>http://steamcommunity.com/profiles/76561198329...</td>\n",
       "      <td>521570</td>\n",
       "      <td>You Have 10 Seconds 2</td>\n",
       "      <td>4</td>\n",
       "    </tr>\n",
       "    <tr>\n",
       "      <th>5153208</th>\n",
       "      <td>76561198329548331</td>\n",
       "      <td>7</td>\n",
       "      <td>http://steamcommunity.com/profiles/76561198329...</td>\n",
       "      <td>519140</td>\n",
       "      <td>Minds Eyes</td>\n",
       "      <td>3</td>\n",
       "    </tr>\n",
       "  </tbody>\n",
       "</table>\n",
       "<p>5153209 rows × 6 columns</p>\n",
       "</div>"
      ],
      "text/plain": [
       "                   user_id  items_count  \\\n",
       "0        76561197970982479          277   \n",
       "1        76561197970982479          277   \n",
       "2        76561197970982479          277   \n",
       "3        76561197970982479          277   \n",
       "4        76561197970982479          277   \n",
       "...                    ...          ...   \n",
       "5153204  76561198329548331            7   \n",
       "5153205  76561198329548331            7   \n",
       "5153206  76561198329548331            7   \n",
       "5153207  76561198329548331            7   \n",
       "5153208  76561198329548331            7   \n",
       "\n",
       "                                                  user_url item_id  \\\n",
       "0        http://steamcommunity.com/profiles/76561197970...      10   \n",
       "1        http://steamcommunity.com/profiles/76561197970...      20   \n",
       "2        http://steamcommunity.com/profiles/76561197970...      30   \n",
       "3        http://steamcommunity.com/profiles/76561197970...      40   \n",
       "4        http://steamcommunity.com/profiles/76561197970...      50   \n",
       "...                                                    ...     ...   \n",
       "5153204  http://steamcommunity.com/profiles/76561198329...  346330   \n",
       "5153205  http://steamcommunity.com/profiles/76561198329...  373330   \n",
       "5153206  http://steamcommunity.com/profiles/76561198329...  388490   \n",
       "5153207  http://steamcommunity.com/profiles/76561198329...  521570   \n",
       "5153208  http://steamcommunity.com/profiles/76561198329...  519140   \n",
       "\n",
       "                             item_name  playtime_forever  \n",
       "0                       Counter-Strike                 6  \n",
       "1                Team Fortress Classic                 0  \n",
       "2                        Day of Defeat                 7  \n",
       "3                   Deathmatch Classic                 0  \n",
       "4            Half-Life: Opposing Force                 0  \n",
       "...                                ...               ...  \n",
       "5153204                   BrainBread 2                 0  \n",
       "5153205                    All Is Dust                 0  \n",
       "5153206  One Way To Die: Steam Edition                 3  \n",
       "5153207          You Have 10 Seconds 2                 4  \n",
       "5153208                     Minds Eyes                 3  \n",
       "\n",
       "[5153209 rows x 6 columns]"
      ]
     },
     "execution_count": 9,
     "metadata": {},
     "output_type": "execute_result"
    }
   ],
   "source": [
    "items_desanidado"
   ]
  }
 ],
 "metadata": {
  "kernelspec": {
   "display_name": "Python 3",
   "language": "python",
   "name": "python3"
  },
  "language_info": {
   "codemirror_mode": {
    "name": "ipython",
    "version": 3
   },
   "file_extension": ".py",
   "mimetype": "text/x-python",
   "name": "python",
   "nbconvert_exporter": "python",
   "pygments_lexer": "ipython3",
   "version": "3.11.2"
  },
  "orig_nbformat": 4
 },
 "nbformat": 4,
 "nbformat_minor": 2
}
