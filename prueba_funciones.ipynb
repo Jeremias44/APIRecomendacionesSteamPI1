{
 "cells": [
  {
   "cell_type": "code",
   "execution_count": 1,
   "metadata": {},
   "outputs": [],
   "source": [
    "import pandas as pd\n",
    "import numpy as np\n",
    "from datetime import datetime\n",
    "\n",
    "from sklearn.preprocessing import MinMaxScaler\n",
    "from sklearn.metrics import pairwise_distances\n",
    "from sklearn.impute import SimpleImputer\n",
    "from sklearn.cluster import KMeans"
   ]
  },
  {
   "cell_type": "code",
   "execution_count": 27,
   "metadata": {},
   "outputs": [],
   "source": [
    "df2 = pd.read_csv(r'2reviews_desanidado.csv')"
   ]
  },
  {
   "cell_type": "code",
   "execution_count": 26,
   "metadata": {},
   "outputs": [
    {
     "data": {
      "text/plain": [
       "{'Hola, te doy la bienvenida a la API de consultas de Steam': 'Podrás realizar las siguientes consultas',\n",
       " '1)userdata(user_id: str)': 'devuelve cantidad de dinero gastado, porcentaje de recomendaciones positivas y cantidad de items del usuario solicitado',\n",
       " '2)countreviews(fecha1: str,fecha2: str)': 'devuelve cantidad de usuarios que dieron opiniones entre las fechas dadas y el porcentaje de recomendaciones positivas',\n",
       " '3)genre(genero: str)': 'devuelve el puesto en el que se encuentra el género indicado en el ranking de horas jugadas',\n",
       " '4)userforgenre(genero: str)': 'devuelve 5 usuarios con más horas de juego en el género indicado',\n",
       " '5)developer(desarrollador: str)': 'devuelve cantidad de items y porcentaje de contenido gratis por año de la empresa indicada',\n",
       " '6)sentiment_analysis(año: int)': 'devuelve la cantidad de reseñas del año indicado, categorizadas en positivo, negativo y neutral',\n",
       " '7)recomendacion_juego(item_id: int)': 'devuelve una lista con 5 juegos recomendados similares al ingresado'}"
      ]
     },
     "execution_count": 26,
     "metadata": {},
     "output_type": "execute_result"
    }
   ],
   "source": [
    "# Saludo\n",
    "def saludo():\n",
    "    return {'Hola, te doy la bienvenida a la API de consultas de Steam': 'Podrás realizar las siguientes consultas',\n",
    "'1)userdata(user_id: str)': 'devuelve cantidad de dinero gastado, porcentaje de recomendaciones positivas y cantidad de items del usuario solicitado',\n",
    "'2)countreviews(fecha1: str,fecha2: str)': 'devuelve cantidad de usuarios que dieron opiniones entre las fechas dadas y el porcentaje de recomendaciones positivas',\n",
    "'3)genre(genero: str)': 'devuelve el puesto en el que se encuentra el género indicado en el ranking de horas jugadas',\n",
    "'4)userforgenre(genero: str)': 'devuelve 5 usuarios con más horas de juego en el género indicado',\n",
    "'5)developer(desarrollador: str)' : 'devuelve cantidad de items y porcentaje de contenido gratis por año de la empresa indicada',\n",
    "'6)sentiment_analysis(año: int)' : 'devuelve la cantidad de reseñas del año indicado, categorizadas en positivo, negativo y neutral',\n",
    "'7)recomendacion_juego(item_id: int)' : 'devuelve una lista con 5 juegos recomendados similares al ingresado'\n",
    "}\n",
    "\n",
    "saludo()"
   ]
  },
  {
   "cell_type": "code",
   "execution_count": 30,
   "metadata": {},
   "outputs": [
    {
     "data": {
      "text/plain": [
       "{'dinero gastado por el usuario doctr': 6595.65,\n",
       " 'porcentaje de recomendaciones positivas del usuario doctr': 100.0,\n",
       " 'cantidad de items del usuario doctr': 541}"
      ]
     },
     "execution_count": 30,
     "metadata": {},
     "output_type": "execute_result"
    }
   ],
   "source": [
    "# Función 1\n",
    "def userdata(user_id: str): \n",
    "    #Cantidad de dinero gastado\n",
    "    df = pd.read_csv(r'1userdata.csv')\n",
    "    dinero_gastado = float(sum(df.price[df.user_id == user_id]))\n",
    "    #Porcentaje de recomendación\n",
    "    recomendaciones_positivas = int(df2.recommend[df2.user_id == user_id].sum())\n",
    "    recomendaciones_totales = int(df2.recommend[df2.user_id == user_id].count())\n",
    "    porcentaje_recomendaciones = round((recomendaciones_positivas/recomendaciones_totales)*100,2)\n",
    "    #Cantidad de items\n",
    "    cantidad_items = int(df.items_count[df.user_id == user_id].max())\n",
    "    return {f'dinero gastado por el usuario {user_id}': round(float(dinero_gastado),2),\n",
    "            f'porcentaje de recomendaciones positivas del usuario {user_id}': porcentaje_recomendaciones,\n",
    "            f'cantidad de items del usuario {user_id}': int(cantidad_items)}\n",
    "\n",
    "userdata('doctr')"
   ]
  },
  {
   "cell_type": "code",
   "execution_count": 29,
   "metadata": {},
   "outputs": [
    {
     "data": {
      "text/plain": [
       "{'cantidad de usuarios que dieron opiniones entre 2012-07-15 y 2013-07-15': 1612,\n",
       " 'porcentaje de recomendaciones positivas entre 2012-07-15 y 2013-07-15': 92.26}"
      ]
     },
     "execution_count": 29,
     "metadata": {},
     "output_type": "execute_result"
    }
   ],
   "source": [
    "# Función 2\n",
    "def countreviews(fecha1: str,fecha2: str):\n",
    "    fecha1 = datetime.strptime(fecha1, \"%Y-%m-%d\").strftime(\"%Y-%m-%d\")\n",
    "    fecha2 = datetime.strptime(fecha2, \"%Y-%m-%d\").strftime(\"%Y-%m-%d\")\n",
    "\n",
    "    # Cantidad de usuarios que recomendaron entre fecha1 y fecha2\n",
    "    # Convierto los valores a tipo datetime\n",
    "    df2['posted'] = pd.to_datetime(df2['posted'], errors='coerce')\n",
    "    # Obtengo la cantidad de usuarios únicos que postearon reviews entre fecha1 y fecha2\n",
    "    cantidad_usuarios = len(df2.user_id[(fecha1 < df2.posted) & (fecha2 > df2.posted)].unique())\n",
    "    # Porcentaje de recomendaciones de estos usuarios\n",
    "    lista_user = df2.user_id[(fecha1 < df2.posted) & (fecha2 > df2.posted)].unique()\n",
    "    recomendaciones_positivas = df2.recommend[df2.user_id.isin(lista_user)].sum()\n",
    "    recomendaciones_totales = df2.recommend[df2.user_id.isin(lista_user)].count()\n",
    "    porcentaje_recomendaciones = round((recomendaciones_positivas/recomendaciones_totales)*100,2)\n",
    "\n",
    "    return {f'cantidad de usuarios que dieron opiniones entre {fecha1} y {fecha2}': cantidad_usuarios,\n",
    "            f'porcentaje de recomendaciones positivas entre {fecha1} y {fecha2}': porcentaje_recomendaciones}\n",
    "\n",
    "countreviews('2012-07-15','2013-07-15')"
   ]
  },
  {
   "cell_type": "code",
   "execution_count": 20,
   "metadata": {},
   "outputs": [
    {
     "data": {
      "text/plain": [
       "{'En el ranking de horas jugadas, el género \"Design &amp; Illustration\" se encuentra en el puesto': 15}"
      ]
     },
     "execution_count": 20,
     "metadata": {},
     "output_type": "execute_result"
    }
   ],
   "source": [
    "# Función 3\n",
    "def genre(genero: str):\n",
    "    ranking = [('Action', 1), ('Indie', 2), ('RPG', 3), ('Adventure', 4), ('Simulation', 5), ('Strategy', 6), ('Free to Play', 7),\n",
    "    ('Massively Multiplayer', 8), ('Casual', 9), ('Early Access', 10), ('Sports', 11), ('Racing', 12), ('Utilities', 13),\n",
    "    ('Web Publishing', 14), ('Design &amp; Illustration', 15), ('Animation &amp; Modeling', 16), ('Video Production', 17),\n",
    "    ('Education', 18), ('Software Training', 19), ('Audio Production', 20), ('Photo Editing', 21)]\n",
    "\n",
    "    for genre_tuple in ranking:\n",
    "        if genre_tuple[0] == genero:\n",
    "            puesto = genre_tuple[1]\n",
    "            break  # Se rompe el bucle una vez que se encuentra el género\n",
    "\n",
    "    return {f'En el ranking de horas jugadas, el género \"{genero}\" se encuentra en el puesto': puesto}\n",
    "\n",
    "genre('Design &amp; Illustration')"
   ]
  },
  {
   "cell_type": "code",
   "execution_count": 19,
   "metadata": {},
   "outputs": [
    {
     "data": {
      "text/plain": [
       "{'usuario 1': ['clawbot44', 'http://steamcommunity.com/id/clawbot44'],\n",
       " 'usuario 2': ['Evilutional', 'http://steamcommunity.com/id/Evilutional'],\n",
       " 'usuario 3': ['REBAS_AS_F-T', 'http://steamcommunity.com/id/REBAS_AS_F-T'],\n",
       " 'usuario 4': ['jimmynoe', 'http://steamcommunity.com/id/jimmynoe'],\n",
       " 'usuario 5': ['wolop', 'http://steamcommunity.com/id/wolop']}"
      ]
     },
     "execution_count": 19,
     "metadata": {},
     "output_type": "execute_result"
    }
   ],
   "source": [
    "# Función 4\n",
    "def userforgenre(genero: str):\n",
    "    grouped_data = pd.read_csv(r'4userforgenre.csv')\n",
    "    sorted_grouped_data = grouped_data.sort_values(by=genero, ascending=False)\n",
    "    # Obtengo los cinco primeros registros y selecciono las columnas deseadas\n",
    "    top_records = sorted_grouped_data.head(5)[['user_id', 'user_url']]\n",
    "    # Creo un diccionario con la estructura deseada\n",
    "    result_dict = {}\n",
    "    count = 1\n",
    "    for _, row in top_records.iterrows():\n",
    "        result_dict[f'usuario {count}'] = [row['user_id'], row['user_url']]\n",
    "        count += 1\n",
    "    \n",
    "    return result_dict\n",
    "\n",
    "userforgenre('Simulation')"
   ]
  },
  {
   "cell_type": "code",
   "execution_count": 7,
   "metadata": {},
   "outputs": [
    {
     "data": {
      "text/plain": [
       "[{'año': 2008.0, 'Cantidad_Items': 2, 'Porcentaje_Contenido_Free': 0.0},\n",
       " {'año': 2009.0, 'Cantidad_Items': 3, 'Porcentaje_Contenido_Free': 0.0},\n",
       " {'año': 2011.0, 'Cantidad_Items': 8, 'Porcentaje_Contenido_Free': 0.0},\n",
       " {'año': 2013.0, 'Cantidad_Items': 14, 'Porcentaje_Contenido_Free': 0.0},\n",
       " {'año': 2014.0, 'Cantidad_Items': 12, 'Porcentaje_Contenido_Free': 0.0},\n",
       " {'año': 2015.0, 'Cantidad_Items': 24, 'Porcentaje_Contenido_Free': 0.0},\n",
       " {'año': 2016.0, 'Cantidad_Items': 7, 'Porcentaje_Contenido_Free': 14.29},\n",
       " {'año': 2017.0, 'Cantidad_Items': 37, 'Porcentaje_Contenido_Free': 2.7}]"
      ]
     },
     "execution_count": 7,
     "metadata": {},
     "output_type": "execute_result"
    }
   ],
   "source": [
    "# Función 5\n",
    "def developer(desarrollador: str):\n",
    "    g_año = pd.read_csv(r'5developer.csv')\n",
    "    # Filtro el DataFrame por el desarrollador deseado\n",
    "    g_año_filtrado = g_año[g_año['developer'] == desarrollador]\n",
    "    # Agrupo los datos por año y realizo las operaciones de conteo y porcentaje\n",
    "    g_año_agrupado = g_año_filtrado.groupby('año').agg(\n",
    "    Cantidad_Items=('contador', 'sum'),\n",
    "    Porcentaje_Contenido_Free=('price', lambda x: round((x == 0.00).mean() * 100, 2))\n",
    "    )\n",
    "    # Convierto el DataFrame en un diccionario clave-valor\n",
    "    dicc_agrupado = g_año_agrupado.reset_index().to_dict(orient='records')\n",
    "\n",
    "    return dicc_agrupado\n",
    "\n",
    "developer('Capcom')"
   ]
  },
  {
   "cell_type": "code",
   "execution_count": 8,
   "metadata": {},
   "outputs": [
    {
     "data": {
      "text/plain": [
       "{'negativo': 119.0, 'neutral': 219.0, 'positivo': 1754.0}"
      ]
     },
     "execution_count": 8,
     "metadata": {},
     "output_type": "execute_result"
    }
   ],
   "source": [
    "# Función 6\n",
    "def sentiment_analysis(año: int):\n",
    "    año_reviews = pd.read_csv(r'6sentiment_analysis.csv')\n",
    "    negativo = año_reviews[año_reviews['año'] == año].iloc[0][1]\n",
    "    neutral = año_reviews[año_reviews['año'] == año].iloc[0][2]\n",
    "    positivo = año_reviews[año_reviews['año'] == año].iloc[0][3]\n",
    "        \n",
    "    return {'reseñas negativas': negativo, 'reseñas neutrales': neutral, 'reseñas positivas': positivo}\n",
    "\n",
    "sentiment_analysis(2017)"
   ]
  },
  {
   "cell_type": "code",
   "execution_count": 25,
   "metadata": {},
   "outputs": [
    {
     "name": "stderr",
     "output_type": "stream",
     "text": [
      "c:\\Users\\Usuario\\AppData\\Local\\Programs\\Python\\Python311\\Lib\\site-packages\\sklearn\\cluster\\_kmeans.py:1412: FutureWarning: The default value of `n_init` will change from 10 to 'auto' in 1.4. Set the value of `n_init` explicitly to suppress the warning\n",
      "  super()._check_params_vs_input(X, default_n_init=10)\n"
     ]
    },
    {
     "data": {
      "text/plain": [
       "{'5 item_id recomendados similares al juego con item_id 20': [30,\n",
       "  360,\n",
       "  10,\n",
       "  60,\n",
       "  40]}"
      ]
     },
     "execution_count": 25,
     "metadata": {},
     "output_type": "execute_result"
    }
   ],
   "source": [
    "# Función 7\n",
    "def recomendacion_juego(item_id: int):\n",
    "    df_7 = pd.read_csv(r'7recomendacion_juego.csv')\n",
    "\n",
    "    # Imputo los valores faltantes con 0\n",
    "    imputer = SimpleImputer(strategy='constant', fill_value=0)\n",
    "    df_7i = imputer.fit_transform(df_7.drop('item_id', axis=1))  # Elimino la columna 'item_id'\n",
    "    # Convierto el array NumPy en un DataFrame de pandas\n",
    "    df_7i = pd.DataFrame(df_7i, columns=df_7.columns[1:])  # Ignoro la columna 'item_id'\n",
    "\n",
    "    # Creo una instancia de KMeans\n",
    "    kmeans = KMeans(n_clusters=5, random_state=0)\n",
    "    # Entreno el modelo con los datos\n",
    "    kmeans.fit(df_7i)\n",
    "    # Obtengo las etiquetas de los clusters asignados a cada fila\n",
    "    etiquetas_clusters = kmeans.labels_\n",
    "\n",
    "\n",
    "    # Paso 1: Obtengo el índice del item_id en el DataFrame original\n",
    "    indice_item_id = df_7[df_7['item_id'] == item_id].index[0]\n",
    "    # Paso 2: Encuentro a qué cluster pertenece el item_id\n",
    "    cluster_item_id = etiquetas_clusters[indice_item_id]\n",
    "    # Paso 3: Filtro los índices de los item_id en el mismo cluster\n",
    "    indices_mismo_cluster = np.where(etiquetas_clusters == cluster_item_id)[0]\n",
    "    # Paso 4: Calculo las distancias y obtengo los índices de los 5 más cercanos\n",
    "    distancias = pairwise_distances(df_7i.iloc[indice_item_id].values.reshape(1, -1), df_7i.iloc[indices_mismo_cluster])\n",
    "    indices_cercanos = np.argsort(distancias)[0][:6]\n",
    "    # Paso 5: Obtengo los item_id de los 5 más cercanos\n",
    "    id_cercanos = df_7.iloc[indices_mismo_cluster[indices_cercanos]]['item_id']\n",
    "    # Paso 6: Paso a enteros y los coloco en una lista\n",
    "    item_id_recomendados = id_cercanos.iloc[1:].astype(int).tolist()\n",
    "\n",
    "    return {f'5 item_id recomendados similares al juego con item_id {item_id}': item_id_recomendados}\n",
    "\n",
    "recomendacion_juego(20)"
   ]
  }
 ],
 "metadata": {
  "kernelspec": {
   "display_name": "Python 3",
   "language": "python",
   "name": "python3"
  },
  "language_info": {
   "codemirror_mode": {
    "name": "ipython",
    "version": 3
   },
   "file_extension": ".py",
   "mimetype": "text/x-python",
   "name": "python",
   "nbconvert_exporter": "python",
   "pygments_lexer": "ipython3",
   "version": "3.11.2"
  },
  "orig_nbformat": 4
 },
 "nbformat": 4,
 "nbformat_minor": 2
}
